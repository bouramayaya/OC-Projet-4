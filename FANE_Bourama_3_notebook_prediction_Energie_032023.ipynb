{
 "cells": [
  {
   "cell_type": "markdown",
   "id": "eb7a9587-0821-4ee3-bdf0-9e92b6a005ef",
   "metadata": {
    "tags": []
   },
   "source": [
    "### <p style=\"background-color:#627D50;color:#D1CABD;font-size:110%;text-align:center;border-radius:20px 60px;  border: 10px solid #cfcfcf;  padding-top: 10px;  padding-left: 10px;  padding-right: 10px; padding-bottom: 10px;  border-radius: 80px 20px;line-height: 1.2em; margin-bottom: 10px;\"> **Projet 4** : Anticipez les besoins en consommation de bâtiments </p>\n",
    "\n",
    "<img src=\"seattle.png\" align=\"left\" alt=\"Alternative text\" />\n",
    "\n",
    "Vous travaillez pour la ville de **Seattle**. Pour atteindre son objectif de ville neutre en émissions de carbone en 2050, votre équipe s'intéresse de près à la consommation et aux émissions des bâtiments non destinés à l'habitation.\n",
    "\n",
    "---\n",
    "- Mentor [**Babou M'BAYE**]()\n",
    "- Etudiant [**Bourama FANE**](https://www.linkedin.com/in/bourama-fan%C3%A9-7aba41141/)\n",
    "- Parcours [*Data Scientiste*]()\n",
    "- Ecole [*OpenClassrooms*]()\n",
    "\n",
    "---"
   ]
  },
  {
   "cell_type": "markdown",
   "id": "8fddd447-bb62-4f40-9c41-4af89c952a0c",
   "metadata": {},
   "source": [
    "## <a id='-1'> <font color='#114b98' font-size='110%' text-align='left'> Sommaire </font> </a>\n",
    "----------"
   ]
  },
  {
   "cell_type": "markdown",
   "id": "ab51cd02-5f94-4c82-a5d2-6ebe8f70b432",
   "metadata": {},
   "source": [
    "[<font color=\"#337da4\"> <h5> 1. Data Preprocessing](#1)</h5>\n",
    ">[1.1 Encodage](#1.1)<br>\n",
    ">[1.2 Transformation des target](#1.2)<br>\n",
    ">[1.3 feature scaling](#1.3)<br>\n",
    ">[1.4 Split du data set](#1.4)\n",
    "\n",
    "[<font color=\"#337da4\"> <h5> 2. Modélisation linéaire](#2)</h5>\n",
    "> [2.1 Baseline](#2.1)<br>\n",
    "> [2.2 Regression Ridge / Lasso / Elastic Net](#2.2)<br>\n",
    "> [2.3 Modèle Support Vector Regression (SVR)](#2.3)<br>\n",
    "> [2.4 K-NN regressor](#2.4)\n",
    "\n",
    "[<font color=\"#337da4\"> <h5> 3. Modèles non-linéaires](#3)</h5>\n",
    "> [3.1. Modèle RandomForestRegressor](#3.1)<br>\n",
    "> [3.2. Modèle XGBoost *(eXtreme Gradient Boosting)*](#3.2)<br>\n",
    "> [3.3. Support Vector Regression - SVR NON Linéaire polynomiale](#3.3)\n",
    "        \n",
    "[<font color=\"#337da4\"> <h5> 4. Selection du meilleur modèle ](#4)</h5>     \n",
    "> [4.1. Meilleur modèle de prédiction](#4.1)<br>\n",
    "> [4.2. GridSearchCV sur le meilleur modèle](#4.2)<br>\n",
    "> [4.3. Features importance](#4.3)<br>\n",
    "> [4.4. Analyse des résidus](#4.4)\n",
    "\n",
    "  \n",
    "[<font color=\"#337da4\"> <h5> 5. Influence du score ENERGY STAR](#5)</h5>\n",
    "[<font color=\"#337da4\"> <h5> 6. Conclusion](#6)</h5>"
   ]
  },
  {
   "cell_type": "markdown",
   "id": "eb1d1092-51f1-46a9-823e-e750507f4340",
   "metadata": {},
   "source": [
    "## <a id='1'> <font color=\"#114b98\"> 1- Librairies & Fonctions  </a>\n",
    "-------------"
   ]
  },
  {
   "cell_type": "markdown",
   "id": "b86f38a1-f3cd-49d8-8bea-97f9cc7b0e91",
   "metadata": {},
   "source": [
    "#### Importation des librairies "
   ]
  },
  {
   "cell_type": "code",
   "execution_count": 1,
   "id": "3eee0c74-dc48-402e-b758-2f68255ea468",
   "metadata": {},
   "outputs": [],
   "source": [
    "import os\n",
    "from datetime import date\n",
    "from datetime import time\n",
    "from datetime import datetime\n",
    "import numpy as np\n",
    "import pandas as pd\n",
    "import matplotlib.pyplot as plt\n",
    "import plotly.express as px\n",
    "import seaborn as sns \n",
    "import missingno as msno\n",
    "from pivottablejs import pivot_ui\n",
    "from IPython.display import HTML\n",
    "from pandas_profiling import ProfileReport\n",
    "from IPython.display import display, Markdown\n",
    "from matplotlib.lines import Line2D\n",
    "\n",
    "plt.style.use('ggplot')\n",
    "import seaborn as sns\n",
    "sns.set_style(\"whitegrid\")\n",
    "sns.color_palette(\"crest\", as_cmap=True)\n",
    "# import warnings\n",
    "# warnings.filterwarnings('ignore')\n",
    "\n",
    "# Affichage des valeurs\n",
    "pd.set_option('display.max_colwidth', None)\n",
    "\n",
    "# !pip install dataframe_to_image\n",
    "import dataframe_image as dfi\n",
    "imgPath='D:/OpenClassrooms/Projet 4/Soutenance/'\n",
    "\n",
    "font_title = {'family': 'serif','color':  '#114b98','weight': 'bold','size': 16,}\n",
    "\n",
    "font_title2 = {'family': 'serif', 'color':  '#114b98','weight': 'bold', 'size': 12,}\n",
    "\n",
    "mycolors = [\"black\", \"hotpink\", \"b\", \"#4CAF50\"]\n",
    "AllColors=['#99ff99','#66b3ff','#4F6272', '#B7C3F3','#ff9999','#ffcc99','#ff6666', '#DD7596', '#8EB897',\n",
    "           '#c2c2f0','#DDA0DD','#1f77b4', '#ff7f0e', '#2ca02c', '#d62728', '#9467bd', '#8c564b', '#e377c2', \n",
    "           '#7f7f7f', '#bcbd22', '#17becf','#e41a1c','#377eb8','#4daf4a','#984ea3','#ff7f00','#ffff33',\n",
    "           '#a65628','#f781bf',\"#E69F00\", \"#56B4E9\", \"#009E73\", \"#F0E442\", \"#0072B2\", \"#D55E00\", \"#CC79A7\", \"#000000\"]\n",
    "\n",
    "%matplotlib inline"
   ]
  },
  {
   "cell_type": "markdown",
   "id": "3f6c4a2a-fb35-4a77-a212-b0a0b87615f0",
   "metadata": {},
   "source": [
    "### Fonctions "
   ]
  },
  {
   "cell_type": "code",
   "execution_count": 2,
   "id": "35b1b16a-a831-4fb2-b782-b61432ee63f5",
   "metadata": {},
   "outputs": [],
   "source": [
    "def namestr(obj, namespace):\n",
    "    ''' fonction retourne le nom en string '''\n",
    "    return [name for name in namespace if namespace[name] is obj] \n",
    "\n",
    "def Camembert(data,col):\n",
    "    df = data[col].value_counts().reset_index()\n",
    "    L=len(df[col])\n",
    "    labels=list(df['index'])\n",
    "    sizes=list(df[col])\n",
    "    # print(labels,\"\\n\",sizes)\n",
    "    explode = Explodetuple(L)\n",
    "    colors =AllColors[:L] \n",
    "    fig1, ax1 = plt.subplots(figsize=(7, 5))\n",
    "    ax1.pie(sizes, explode=explode, labels=labels, colors=colors, autopct='%1.1f%%',shadow=True, startangle=0) \n",
    "    # Equal aspect ratio ensures that pie is drawn as a circle\n",
    "    ax1.axis('equal')\n",
    "    plt.tight_layout()\n",
    "    plt.show()\n",
    "    \n",
    "def remplacement(data, cols, caracter1,caracter2):\n",
    "    for col in cols:\n",
    "        data[col] = data[col].str.lower().str.replace(caracter1, caracter2)\n",
    "    return data\n",
    "\n",
    "def remplacement2(data, cols, caracter1,caracter2):\n",
    "    for col in cols:\n",
    "        data[col] = data[col].str.replace(caracter1, caracter2)\n",
    "    return data\n",
    "\n",
    "def recodage(data, cols):\n",
    "    for col in cols:\n",
    "        data[col] = np.where((data[col].isnull()==True), \"unknown\", np.where(data[col] == \"\", \"unknown\", data[col]))\n",
    "    return data\n",
    "\n",
    "# Cette fonction permet de lister les modalités avec leur occurence d'unchamp qui cumule differentes modalités.\n",
    "def top_words(data, cols, nb_top=1000):\n",
    "    count_keyword = dict()\n",
    "    for index, col in data[cols].iteritems():\n",
    "        if isinstance(col, float):\n",
    "            continue\n",
    "        for word in col.split(','):\n",
    "            if word in count_keyword.keys():\n",
    "                count_keyword[word] += 1\n",
    "            else :\n",
    "                count_keyword[word] = 1\n",
    "  \n",
    "    keyword_top = []\n",
    "    for k,v in count_keyword.items():\n",
    "        keyword_top.append([k,v])\n",
    "    keyword_top.sort(key = lambda x:x[1], reverse = True)\n",
    "    return keyword_top[:nb_top]\n",
    "\n",
    "\n",
    "def Explodetuple(m):\n",
    "    liste1=[]\n",
    "    for t in range(m):\n",
    "        if t in [0,1] :\n",
    "            liste1.append(0.1)\n",
    "        else:\n",
    "            liste1.append(0)\n",
    "    return tuple(liste1) \n",
    "\n",
    "def percentFreq(values):\n",
    "    def my_format(pct):\n",
    "        total = sum(values)\n",
    "        val = int(round(pct*total/100.0))\n",
    "        # return '{:.1f}%\\n({v:d})'.format(pct, v=val)\n",
    "        return '{:.1f}%({v:d})'.format(pct, v=val)\n",
    "    return my_format\n",
    "    \n",
    "\n",
    "def repartitionTypeVar(data,figsize=(6, 3),title=\"Repartition par types de variables \\n\",graphName=''):\n",
    "    df = data.dtypes.value_counts()\n",
    "    L=len(df)\n",
    "    labels=list(df.index)\n",
    "    sizes=list(df)\n",
    "    # print(labels,\"\\n\",sizes)\n",
    "    explode = Explodetuple(L)\n",
    "    colors =AllColors[:L] \n",
    "    fig1, ax1 = plt.subplots(figsize=figsize)\n",
    "    ax1.pie(sizes, explode=explode, labels=labels, colors=colors, autopct=percentFreq(df),shadow=True, startangle=0) \n",
    "    # Equal aspect ratio ensures that pie is drawn as a circle\n",
    "    ax1.axis('equal')\n",
    "    plt.tight_layout()\n",
    "    plt.title(label=title,fontdict=font_title)\n",
    "    plt.legend()\n",
    "    if graphName!='':\n",
    "        plt.savefig(imgPath+graphName, bbox_inches='tight')  \n",
    "    plt.show() \n",
    "    plt.close()\n",
    "    df=df.reset_index()\n",
    "    df.columns=['Types de variables','Nombre']\n",
    "    display(df.reset_index(drop=True))\n",
    "\n",
    "import pandas as pd\n",
    "from wordcloud import WordCloud, STOPWORDS, ImageColorGenerator\n",
    "\n",
    "def nuageMots(data, col,figsize=(16,12),color=\"white\",graphName=''):\n",
    "    display(Markdown('------------------------------------'))       \n",
    "    display(Markdown('#### Nuage de mots sur : {0}'.format(col)))\n",
    "    display(Markdown('------------------------------------'))\n",
    "    fig = plt.figure(1, figsize=figsize)\n",
    "    ax1 = fig.add_subplot(1,1,1)\n",
    "    #Creation de la variable text\n",
    "    df=data.loc[data[col].notnull(),:]\n",
    "    text = ' '.join(cat for cat in df[col])\n",
    "    # Carte avec les mots: background_color=\"salmon\"\n",
    "    word_cloud = WordCloud(width=2000,height=1000,normalize_plurals=False,random_state=1,# colormap=\"Pastel1\", \n",
    "                           collocations=False,stopwords=STOPWORDS, background_color=color, ).generate(text)\n",
    "    ax1.imshow(word_cloud, interpolation=\"bilinear\")\n",
    "    # Afficher le nuage\n",
    "    plt.imshow(word_cloud)\n",
    "    plt.axis(\"off\")\n",
    "    if graphName!='':\n",
    "        plt.savefig(imgPath+graphName, bbox_inches='tight')\n",
    "    plt.show()\n",
    "    plt.close()\n",
    "    \n",
    "def freqSimple (data, cols):\n",
    "    return data[cols].unique().tolist()\n",
    "\n",
    "def valeurUnique(data, cols):\n",
    "    return data.drop_duplicates(subset=cols)[cols]\n",
    "\n",
    "\n",
    "def freqSimple2(data, col_names):\n",
    "    for col_name in col_names:    \n",
    "        effectifs = data[col_name].value_counts()\n",
    "        modalites = effectifs.index # l'index de effectifs contient les modalités\n",
    "        tab = pd.DataFrame(modalites, columns = [col_name]) # création du tableau à partir des modalités\n",
    "        tab[\"Nombre\"] = effectifs.values\n",
    "        tab[\"Frequence\"] = tab[\"Nombre\"] / len(data) # len(data) renvoie la taille de l'échantillon\n",
    "        # tab = tab.sort_values(col_name) # tri des valeurs de la variable X (croissant)\n",
    "        tab[\"Freq. cumul\"] = tab[\"Frequence\"].cumsum() # cumsum calcule la somme cumulée\n",
    "        display(Markdown('------------------------------------'))       \n",
    "        display(Markdown('#### Fréquence sur la variable ***' + col_name+'***'))\n",
    "        display(Markdown('------------------------------------'))\n",
    "        display(tab)\n",
    "        \n",
    "        \n",
    "def selectionVar(data, typevar=['object']):\n",
    "    ''' Cette fonction récupère dans la base en entrée toutes les variables\n",
    "    qui ayant le type typevar spécifié comme argument '''\n",
    "    listVar=list(data.select_dtypes(include=typevar).columns)\n",
    "    return listVar"
   ]
  },
  {
   "cell_type": "code",
   "execution_count": 3,
   "id": "68792c2c-7d1e-4356-acfd-2174c3173627",
   "metadata": {},
   "outputs": [
    {
     "data": {
      "text/html": [
       "<div>\n",
       "<style scoped>\n",
       "    .dataframe tbody tr th:only-of-type {\n",
       "        vertical-align: middle;\n",
       "    }\n",
       "\n",
       "    .dataframe tbody tr th {\n",
       "        vertical-align: top;\n",
       "    }\n",
       "\n",
       "    .dataframe thead th {\n",
       "        text-align: right;\n",
       "    }\n",
       "</style>\n",
       "<table border=\"1\" class=\"dataframe\">\n",
       "  <thead>\n",
       "    <tr style=\"text-align: right;\">\n",
       "      <th></th>\n",
       "      <th>BuildingType</th>\n",
       "      <th>PrimaryPropertyType</th>\n",
       "      <th>PropertyName</th>\n",
       "      <th>Address</th>\n",
       "      <th>CouncilDistrictCode</th>\n",
       "      <th>Neighborhood</th>\n",
       "      <th>Latitude</th>\n",
       "      <th>Longitude</th>\n",
       "      <th>YearBuilt</th>\n",
       "      <th>NumberofBuildings</th>\n",
       "      <th>...</th>\n",
       "      <th>BuildAgeGroup</th>\n",
       "      <th>FE_SteamUse</th>\n",
       "      <th>FE_Electricity</th>\n",
       "      <th>FE_NaturalGas</th>\n",
       "      <th>FE_NumberOfUseType</th>\n",
       "      <th>FE_PartLargestUseGFA</th>\n",
       "      <th>FE_PartGFABuilding</th>\n",
       "      <th>FE_PartGFAParking</th>\n",
       "      <th>FE_GFAPerBuilding</th>\n",
       "      <th>FE_GFAPerFloor</th>\n",
       "    </tr>\n",
       "  </thead>\n",
       "  <tbody>\n",
       "    <tr>\n",
       "      <th>0</th>\n",
       "      <td>NonResidential</td>\n",
       "      <td>Hotel</td>\n",
       "      <td>MAYFLOWER PARK HOTEL</td>\n",
       "      <td>405 Olive way</td>\n",
       "      <td>7</td>\n",
       "      <td>DOWNTOWN</td>\n",
       "      <td>47.61220</td>\n",
       "      <td>-122.33799</td>\n",
       "      <td>1927</td>\n",
       "      <td>1</td>\n",
       "      <td>...</td>\n",
       "      <td>(80, 90]</td>\n",
       "      <td>1.0</td>\n",
       "      <td>1.0</td>\n",
       "      <td>1.0</td>\n",
       "      <td>1</td>\n",
       "      <td>1.000000</td>\n",
       "      <td>1.00000</td>\n",
       "      <td>0.00000</td>\n",
       "      <td>88434.0</td>\n",
       "      <td>7369.50</td>\n",
       "    </tr>\n",
       "    <tr>\n",
       "      <th>1</th>\n",
       "      <td>NonResidential</td>\n",
       "      <td>Hotel</td>\n",
       "      <td>PARAMOUNT HOTEL</td>\n",
       "      <td>724 Pine street</td>\n",
       "      <td>7</td>\n",
       "      <td>DOWNTOWN</td>\n",
       "      <td>47.61317</td>\n",
       "      <td>-122.33393</td>\n",
       "      <td>1996</td>\n",
       "      <td>1</td>\n",
       "      <td>...</td>\n",
       "      <td>(10, 20]</td>\n",
       "      <td>0.0</td>\n",
       "      <td>1.0</td>\n",
       "      <td>1.0</td>\n",
       "      <td>3</td>\n",
       "      <td>0.809918</td>\n",
       "      <td>0.85455</td>\n",
       "      <td>0.14545</td>\n",
       "      <td>103566.0</td>\n",
       "      <td>9415.09</td>\n",
       "    </tr>\n",
       "    <tr>\n",
       "      <th>2</th>\n",
       "      <td>NonResidential</td>\n",
       "      <td>Hotel</td>\n",
       "      <td>5673-THE WESTIN SEATTLE</td>\n",
       "      <td>1900 5th Avenue</td>\n",
       "      <td>7</td>\n",
       "      <td>DOWNTOWN</td>\n",
       "      <td>47.61393</td>\n",
       "      <td>-122.33810</td>\n",
       "      <td>1969</td>\n",
       "      <td>1</td>\n",
       "      <td>...</td>\n",
       "      <td>(40, 50]</td>\n",
       "      <td>1.0</td>\n",
       "      <td>1.0</td>\n",
       "      <td>1.0</td>\n",
       "      <td>1</td>\n",
       "      <td>0.791220</td>\n",
       "      <td>0.79425</td>\n",
       "      <td>0.20575</td>\n",
       "      <td>956110.0</td>\n",
       "      <td>23319.76</td>\n",
       "    </tr>\n",
       "    <tr>\n",
       "      <th>3</th>\n",
       "      <td>NonResidential</td>\n",
       "      <td>Hotel</td>\n",
       "      <td>HOTEL MAX</td>\n",
       "      <td>620 STEWART ST</td>\n",
       "      <td>7</td>\n",
       "      <td>DOWNTOWN</td>\n",
       "      <td>47.61412</td>\n",
       "      <td>-122.33664</td>\n",
       "      <td>1926</td>\n",
       "      <td>1</td>\n",
       "      <td>...</td>\n",
       "      <td>(80, 90]</td>\n",
       "      <td>1.0</td>\n",
       "      <td>1.0</td>\n",
       "      <td>1.0</td>\n",
       "      <td>1</td>\n",
       "      <td>1.000000</td>\n",
       "      <td>1.00000</td>\n",
       "      <td>0.00000</td>\n",
       "      <td>61320.0</td>\n",
       "      <td>6132.00</td>\n",
       "    </tr>\n",
       "    <tr>\n",
       "      <th>4</th>\n",
       "      <td>NonResidential</td>\n",
       "      <td>Hotel</td>\n",
       "      <td>WARWICK SEATTLE HOTEL (ID8)</td>\n",
       "      <td>401 LENORA ST</td>\n",
       "      <td>7</td>\n",
       "      <td>DOWNTOWN</td>\n",
       "      <td>47.61375</td>\n",
       "      <td>-122.34047</td>\n",
       "      <td>1980</td>\n",
       "      <td>1</td>\n",
       "      <td>...</td>\n",
       "      <td>(30, 40]</td>\n",
       "      <td>0.0</td>\n",
       "      <td>1.0</td>\n",
       "      <td>1.0</td>\n",
       "      <td>3</td>\n",
       "      <td>0.703070</td>\n",
       "      <td>0.64688</td>\n",
       "      <td>0.35312</td>\n",
       "      <td>175580.0</td>\n",
       "      <td>9754.44</td>\n",
       "    </tr>\n",
       "  </tbody>\n",
       "</table>\n",
       "<p>5 rows × 39 columns</p>\n",
       "</div>"
      ],
      "text/plain": [
       "     BuildingType PrimaryPropertyType                 PropertyName  \\\n",
       "0  NonResidential               Hotel         MAYFLOWER PARK HOTEL   \n",
       "1  NonResidential               Hotel              PARAMOUNT HOTEL   \n",
       "2  NonResidential               Hotel      5673-THE WESTIN SEATTLE   \n",
       "3  NonResidential               Hotel                    HOTEL MAX   \n",
       "4  NonResidential               Hotel  WARWICK SEATTLE HOTEL (ID8)   \n",
       "\n",
       "           Address  CouncilDistrictCode Neighborhood  Latitude  Longitude  \\\n",
       "0    405 Olive way                    7     DOWNTOWN  47.61220 -122.33799   \n",
       "1  724 Pine street                    7     DOWNTOWN  47.61317 -122.33393   \n",
       "2  1900 5th Avenue                    7     DOWNTOWN  47.61393 -122.33810   \n",
       "3   620 STEWART ST                    7     DOWNTOWN  47.61412 -122.33664   \n",
       "4    401 LENORA ST                    7     DOWNTOWN  47.61375 -122.34047   \n",
       "\n",
       "   YearBuilt  NumberofBuildings  ...  BuildAgeGroup  FE_SteamUse  \\\n",
       "0       1927                  1  ...       (80, 90]          1.0   \n",
       "1       1996                  1  ...       (10, 20]          0.0   \n",
       "2       1969                  1  ...       (40, 50]          1.0   \n",
       "3       1926                  1  ...       (80, 90]          1.0   \n",
       "4       1980                  1  ...       (30, 40]          0.0   \n",
       "\n",
       "   FE_Electricity  FE_NaturalGas FE_NumberOfUseType FE_PartLargestUseGFA  \\\n",
       "0             1.0            1.0                  1             1.000000   \n",
       "1             1.0            1.0                  3             0.809918   \n",
       "2             1.0            1.0                  1             0.791220   \n",
       "3             1.0            1.0                  1             1.000000   \n",
       "4             1.0            1.0                  3             0.703070   \n",
       "\n",
       "   FE_PartGFABuilding  FE_PartGFAParking  FE_GFAPerBuilding  FE_GFAPerFloor  \n",
       "0             1.00000            0.00000            88434.0         7369.50  \n",
       "1             0.85455            0.14545           103566.0         9415.09  \n",
       "2             0.79425            0.20575           956110.0        23319.76  \n",
       "3             1.00000            0.00000            61320.0         6132.00  \n",
       "4             0.64688            0.35312           175580.0         9754.44  \n",
       "\n",
       "[5 rows x 39 columns]"
      ]
     },
     "execution_count": 3,
     "metadata": {},
     "output_type": "execute_result"
    }
   ],
   "source": [
    "dfBuild = pd.read_csv('dfBuild.csv')\n",
    "dfBuild.head()"
   ]
  },
  {
   "cell_type": "code",
   "execution_count": 4,
   "id": "07cbb199-f8c3-4bb3-b4f4-3cfad13f5330",
   "metadata": {},
   "outputs": [
    {
     "name": "stdout",
     "output_type": "stream",
     "text": [
      "Index(['BuildingType', 'PrimaryPropertyType', 'PropertyName', 'Address',\n",
      "       'CouncilDistrictCode', 'Neighborhood', 'Latitude', 'Longitude',\n",
      "       'YearBuilt', 'NumberofBuildings', 'NumberofFloors', 'PropertyGFATotal',\n",
      "       'PropertyGFAParking', 'PropertyGFABuilding(s)',\n",
      "       'ListOfAllPropertyUseTypes', 'LargestPropertyUseType',\n",
      "       'LargestPropertyUseTypeGFA', 'ENERGYSTARScore', 'SiteEUI(kBtu/sf)',\n",
      "       'SourceEUI(kBtu/sf)', 'SiteEnergyUse(kBtu)', 'SteamUse(kBtu)',\n",
      "       'Electricity(kBtu)', 'NaturalGas(kBtu)', 'DefaultData',\n",
      "       'ComplianceStatus', 'TotalGHGEmissions', 'GHGEmissionsIntensity',\n",
      "       'BuildAge', 'BuildAgeGroup', 'FE_SteamUse', 'FE_Electricity',\n",
      "       'FE_NaturalGas', 'FE_NumberOfUseType', 'FE_PartLargestUseGFA',\n",
      "       'FE_PartGFABuilding', 'FE_PartGFAParking', 'FE_GFAPerBuilding',\n",
      "       'FE_GFAPerFloor'],\n",
      "      dtype='object')\n"
     ]
    }
   ],
   "source": [
    "print(dfBuild.columns)\n",
    "\n",
    "listVar=['TotalGHGEmissions','SiteEnergyUse(kBtu)', 'BuildingType', 'PrimaryPropertyType', 'Neighborhood', 'Latitude', 'Longitude', 'PropertyGFATotal',\n",
    "         'ENERGYSTARScore',  'SiteEnergyUse(kBtu)', 'TotalGHGEmissions',  'BuildAgeGroup', 'FE_SteamUse', 'FE_Electricity',\n",
    "         'FE_NaturalGas', 'FE_NumberOfUseType', 'FE_PartLargestUseGFA', 'FE_PartGFABuilding', 'FE_PartGFAParking', \n",
    "         'FE_GFAPerBuilding','FE_GFAPerFloor']"
   ]
  },
  {
   "cell_type": "markdown",
   "id": "809df535-2e13-467d-b9e1-7394fac87fbf",
   "metadata": {},
   "source": [
    "### <font color=\"#337da4\" id=\"1\">1. Data Preprocessing</font>\n",
    "----------------------------\n",
    "<details>\n",
    "<summary><font color=\"#2cb7b0\"><b> Commentaires :</b></font></summary> <br>\n",
    "<h5>Définition</h5>\n",
    "    \n",
    "La préparation de données ou le data preprocessing ou le pré-traitement est un processus qui précède celui de l'analyse de données. Il est constitué de plusieurs tâches comme le nettoyage de données, l'encodage, la normalisation, le split des données, etc.\n",
    "\n",
    "Au cours du data preprocessing, les données dites « brutes » sont soumises à différents traitements afin de les rendre exploitables pour l'étape de la construction de modèles.\n",
    "<h5>Importance </h5>\n",
    "Le data preprocessing est une étape clé car la fiabilité de l'analyse des données (résultats des modèles) dépend en très grande partie de la qualité des données.\n",
    "</details>"
   ]
  },
  {
   "cell_type": "markdown",
   "id": "42e337ab-9176-4eb7-a687-dd3a21d1795f",
   "metadata": {},
   "source": [
    "#### <font color=\"#337da4\" id=\"1.1\">1.1 Encodage </font>\n",
    "<details>\n",
    "<summary><font color=\"#2cb7b0\"><b> Commentaires :</b></font></summary> <br>\n",
    "\n",
    "\n",
    "Comme le modèle d'apprentissage automatique ne peut pas traiter les données catégorielles doivent être recodées sous forme de valeurs numériques pour être intégrés aux modèles de machine learning. Cela peut être fait de plusieurs manières :\n",
    "\n",
    "**_LabelEncoder_:** transforme un vecteur **[\"a\",\"b\",\"c\"]** en vecteur numérique **[0,1,2]**. Cette approche a l'inconvénient d'introduire un ordre dans les modalités, ce qui n'est pas toujours souhaitable\n",
    "\n",
    "**_OrdinalEncoder_:** une version généralisée du LabelEncoder qui a vocation à s'appliquer sur des matrices ($X$), alors que LabelEncoder s'applique plutôt à un vecteur ($y$)\n",
    "\n",
    "_**pandas.get_dummies**_ : effectue une opération de dummy expansion. Un vecteur de taille $n$ avec $K$ catégories sera transformé en matrice de taille $n$x$K$ pour lequel chaque colonne sera une variable dummy pour la modalité **k**. Il y a ici modalités et il y a donc multicolinéarité. Avec une régression linéaire avec constante, il convient de retirer une modalité avant l'estimation.\n",
    "\n",
    "**_OneHotEncoder_:** est une version généralisée (et optimisée) de la ***dummy expansion***. Il a plutôt vocation à s'appliquer sur les features ($X$) du modèle.\n",
    "</details>"
   ]
  },
  {
   "cell_type": "code",
   "execution_count": 5,
   "id": "e0c58ed2-ba61-4762-b300-b68163eb7cdb",
   "metadata": {},
   "outputs": [
    {
     "data": {
      "text/html": [
       "<div>\n",
       "<style scoped>\n",
       "    .dataframe tbody tr th:only-of-type {\n",
       "        vertical-align: middle;\n",
       "    }\n",
       "\n",
       "    .dataframe tbody tr th {\n",
       "        vertical-align: top;\n",
       "    }\n",
       "\n",
       "    .dataframe thead th {\n",
       "        text-align: right;\n",
       "    }\n",
       "</style>\n",
       "<table border=\"1\" class=\"dataframe\">\n",
       "  <thead>\n",
       "    <tr style=\"text-align: right;\">\n",
       "      <th></th>\n",
       "      <th>BuildAgeGroup</th>\n",
       "    </tr>\n",
       "  </thead>\n",
       "  <tbody>\n",
       "    <tr>\n",
       "      <th>0</th>\n",
       "      <td>10.0</td>\n",
       "    </tr>\n",
       "    <tr>\n",
       "      <th>1</th>\n",
       "      <td>1.0</td>\n",
       "    </tr>\n",
       "    <tr>\n",
       "      <th>2</th>\n",
       "      <td>6.0</td>\n",
       "    </tr>\n",
       "    <tr>\n",
       "      <th>3</th>\n",
       "      <td>10.0</td>\n",
       "    </tr>\n",
       "    <tr>\n",
       "      <th>4</th>\n",
       "      <td>5.0</td>\n",
       "    </tr>\n",
       "  </tbody>\n",
       "</table>\n",
       "</div>"
      ],
      "text/plain": [
       "   BuildAgeGroup\n",
       "0           10.0\n",
       "1            1.0\n",
       "2            6.0\n",
       "3           10.0\n",
       "4            5.0"
      ]
     },
     "execution_count": 5,
     "metadata": {},
     "output_type": "execute_result"
    }
   ],
   "source": [
    "# Variables qualitatives à encoder\n",
    "quali_features =['BuildingType', 'PrimaryPropertyType', 'Neighborhood']\n",
    "\n",
    "from sklearn.preprocessing import OrdinalEncoder\n",
    "from sklearn.preprocessing import OneHotEncoder\n",
    "\n",
    "# encodage\n",
    "df = pd.get_dummies(dfBuild[quali_features])\n",
    "dfBuild2=pd.concat([dfBuild,df], axis=1)\n",
    "dfBuild2=dfBuild\n",
    "# Pour les variables Ordinales\n",
    "ordinal_features =['BuildAgeGroup']\n",
    "ordinal = OrdinalEncoder()\n",
    "dfBuild[ordinal_features] = ordinal.fit_transform(dfBuild[ordinal_features])\n",
    "dfBuild.drop(quali_features,axis=1, inplace=True)\n",
    "dfBuild[['BuildAgeGroup']].head()"
   ]
  },
  {
   "cell_type": "markdown",
   "id": "87034701-090a-41f1-a6cc-387566d8bf21",
   "metadata": {},
   "source": [
    "#### <font color=\"#337da4\" id=\"1.2\">1.2 Transformation des targets </font>"
   ]
  },
  {
   "cell_type": "markdown",
   "id": "d34f2aec-c333-40c6-8a92-05b4d07d7914",
   "metadata": {},
   "source": [
    "Concernant nos variables à prédire, nous allons regarder l'impact du passage à l'échelle logarithmique sur les distribution"
   ]
  },
  {
   "cell_type": "code",
   "execution_count": 6,
   "id": "33af2d6a-698c-4ab5-bdd4-4eac34e32aec",
   "metadata": {},
   "outputs": [],
   "source": [
    "dfBuild['CO2_log'] = np.log(dfBuild['TotalGHGEmissions'])\n",
    "dfBuild['Energy_log'] = np.log(dfBuild['SiteEnergyUse(kBtu)'])"
   ]
  },
  {
   "cell_type": "code",
   "execution_count": 7,
   "id": "91bb8dd0-6ae3-440b-9ae3-0f900add54df",
   "metadata": {},
   "outputs": [],
   "source": [
    "# from sklearn.preprocessing import FunctionTransformer\n",
    "\n",
    "# logtransformer = FunctionTransformer(np.log, inverse_func = np.exp, check_inverse = True)\n",
    "# Y_log = logtransformer.transform(Y)\n",
    "\n",
    "def CompareLog(data,target, targetLog,title='',figsize=(12,5)):\n",
    "    fig, axes = plt.subplots(nrows=1, ncols=2, sharex=False, sharey=False, figsize=figsize)\n",
    "    sns.histplot(data=data, x=target,color='darkblue',  ax=axes[0]) # stat=\"density\",\n",
    "    axes[0].set_title(\"Données initiales\", color='#2cb7b0',size=12)\n",
    "    sns.histplot(data=data, x=targetLog,  ax=axes[1],color='darkblue') # stat=\"density\",\n",
    "    axes[1].set_title(\"Application du logarithme\", color='#2cb7b0',size=12)\n",
    "    plt.suptitle(title, fontdict=font_title)\n",
    "    plt.show() \n"
   ]
  },
  {
   "cell_type": "code",
   "execution_count": 8,
   "id": "71afcd16-f7a2-41cd-80a0-541816d83be2",
   "metadata": {},
   "outputs": [
    {
     "data": {
      "image/png": "[encoded data removed]",
      "text/plain": [
       "<Figure size 1200x500 with 2 Axes>"
      ]
     },
     "metadata": {},
     "output_type": "display_data"
    }
   ],
   "source": [
    "CompareLog(dfBuild,'SiteEnergyUse(kBtu)','Energy_log', title=\"Distribution de la consommation d'energie avec changement d'échelle  \\n\")"
   ]
  },
  {
   "cell_type": "markdown",
   "id": "d006e5df-b768-48ec-9612-4b88683b9e8a",
   "metadata": {},
   "source": [
    "----\n",
    "En appliquant le log aux variables d'interêts, les distributions ressemblent à des distributions normales. Nous allons donc, retenir ces variables en logarithme pour la suite des analyses.  "
   ]
  },
  {
   "cell_type": "markdown",
   "id": "56446830-5d2e-4687-83d0-153c18de3dce",
   "metadata": {},
   "source": [
    "#### <font color=\"#337da4\" id=\"1.3\">1.3 Feature scaling </font>\n",
    "\n",
    "<details>\n",
    "<summary><font color=\"blue\"><b> Note </b></font></summary>\n",
    "Quand les données d'un Data Set sont dans des ordres de grandeurs différents, certains algorithmes de Machine Learning mettent plus de temps à trouver un modèle prédictif optimal.\n",
    "\n",
    "Le Feature Scaling  est une bonne pratique, pour ne pas dire obligatoire, lors de la modélisation avec du Machine Learning.\n",
    "Les algorithmes pour lesquels le feature scaling s'avère nécessaire, sont ceux pour lesquels il faudra:\n",
    "\n",
    "- Calculer un vecteur de poids (weights) theta\n",
    "- Calculer des distances pour déduire le degrée de similarité de deux items\n",
    "- Certains algorithmes de Clustering\n",
    "\n",
    "Plus concrétement, voici une liste d'algorithmes non exhaustive pour lesquels il faudra procéder au Feature Scaling :\n",
    "\n",
    "- Logistic Regression\n",
    "- Regression Analysis (polynomial, multivariate regression…)\n",
    "- Support Vector Machines (SVM)\n",
    "- K-Nearest Neighbors (KNN)\n",
    "- K-Means (clustering…)\n",
    "- Principal Component Analysis (PCA)\n",
    "\n",
    "Parmi les techniques du feature scaling, on retrouve la **Standardisation** et la **Normalisation**. \n",
    "</details>"
   ]
  },
  {
   "cell_type": "code",
   "execution_count": 9,
   "id": "40d33ce3-7a1c-4603-a5d3-f5143b30e70c",
   "metadata": {},
   "outputs": [],
   "source": [
    "from sklearn.preprocessing import MinMaxScaler,StandardScaler,RobustScaler,scale\n",
    "\n",
    "numeric_features=['Latitude','Longitude', 'PropertyGFATotal', 'ENERGYSTARScore', 'BuildAgeGroup','FE_NumberOfUseType', \n",
    "                  'FE_PartLargestUseGFA', 'FE_PartGFABuilding', 'FE_PartGFAParking', 'FE_GFAPerBuilding','FE_GFAPerFloor']\n",
    "\n",
    "dfBuild[numeric_features] = RobustScaler().fit_transform(dfBuild[numeric_features])\n",
    "# from sklearn.preprocessing import StandardScaler\n",
    "# data_log_transformed[numerical_columns] = StandardScaler().fit_transform(data_log_transformed[numerical_columns])\n",
    "X_CO2=dfBuild[numeric_features]\n",
    "X_Energy=dfBuild[numeric_features]\n",
    "y_CO2=dfBuild[['CO2_log']]\n",
    "y_Energy=dfBuild[['Energy_log']]"
   ]
  },
  {
   "cell_type": "markdown",
   "id": "f0ab892e-2e01-4547-8ca1-f51eee912417",
   "metadata": {},
   "source": [
    "#### <font color=\"#337da4\" id=\"1.4\">1.4 Split du data set  </font>\n",
    "\n",
    "Afin de tester notre meilleur modèle sur des données \"inconnues\", nous allons mettre de côté une partie des données initiales qui ne seront pas inclusent dans les modèles intermédiaires. Nous allons donc spliter nos données pour obtenir un jeu d'entrainement et un jeu de test (20% des données)"
   ]
  },
  {
   "cell_type": "code",
   "execution_count": 10,
   "id": "496d1d0d-a06d-4fdb-9acd-47c4aa11912e",
   "metadata": {},
   "outputs": [
    {
     "data": {
      "text/plain": [
       "((868, 14), (868, 1), (217, 14), (217, 1))"
      ]
     },
     "execution_count": 10,
     "metadata": {},
     "output_type": "execute_result"
    }
   ],
   "source": [
    "from sklearn import model_selection\n",
    "from sklearn.model_selection import train_test_split\n",
    "\n",
    "dfBuild=dfBuild[['CO2_log', 'Energy_log','TotalGHGEmissions','SiteEnergyUse(kBtu)', 'Latitude','Longitude', 'PropertyGFATotal', 'ENERGYSTARScore', 'BuildAgeGroup', \n",
    "                 'FE_SteamUse', 'FE_Electricity','FE_NaturalGas', 'FE_NumberOfUseType', 'FE_PartLargestUseGFA',\n",
    "                 'FE_PartGFABuilding', 'FE_PartGFAParking', 'FE_GFAPerBuilding','FE_GFAPerFloor']]\n",
    "\n",
    "features=['Latitude','Longitude', 'PropertyGFATotal', 'ENERGYSTARScore', 'BuildAgeGroup','FE_SteamUse', 'FE_Electricity',\n",
    "          'FE_NaturalGas', 'FE_NumberOfUseType', 'FE_PartLargestUseGFA','FE_PartGFABuilding', \n",
    "          'FE_PartGFAParking', 'FE_GFAPerBuilding','FE_GFAPerFloor']\n",
    "\n",
    "target='Energy_log' # 'Energy_log'\n",
    "X_train_Energy, X_test_Energy, y_train_Energy, y_test_Energy =train_test_split(dfBuild[features], \n",
    "                                                                   dfBuild[[target]], \n",
    "                                                                   test_size = 0.2, \n",
    "                                                                   random_state = 42)\n",
    "X_train_Energy.shape, y_train_Energy.shape, X_test_Energy.shape, y_test_Energy.shape\n"
   ]
  },
  {
   "cell_type": "code",
   "execution_count": 11,
   "id": "a2428868-9fbc-410c-b5c1-dc7a30fb5fd1",
   "metadata": {},
   "outputs": [],
   "source": [
    "X_train_Energy_ESS=X_train_Energy[features]\n",
    "X_test_Energy_ESS=X_test_Energy[features]\n",
    "\n",
    "X_train_Energy=X_train_Energy[list(set(features)-set(['ENERGYSTARScore']))]\n",
    "X_test_Energy=X_test_Energy[list(set(features)-set(['ENERGYSTARScore']))]"
   ]
  },
  {
   "cell_type": "code",
   "execution_count": 12,
   "id": "8e77f97d-953e-422c-9f4b-bcec3c952639",
   "metadata": {},
   "outputs": [
    {
     "data": {
      "text/plain": [
       "((868, 14), (868, 1), (217, 14), (217, 1))"
      ]
     },
     "execution_count": 12,
     "metadata": {},
     "output_type": "execute_result"
    }
   ],
   "source": [
    "target='Energy_log' # 'CO2_log'\n",
    "X_train_Energy, X_test_Energy, y_train_Energy, y_test_Energy = train_test_split(dfBuild[features], \n",
    "                                                                                dfBuild[[target]], \n",
    "                                                                                test_size = 0.2, \n",
    "                                                                                random_state = 42)\n",
    "X_train_Energy.shape, y_train_Energy.shape, X_test_Energy.shape, y_test_Energy.shape"
   ]
  },
  {
   "cell_type": "code",
   "execution_count": 13,
   "id": "a3f0a875-3280-4f17-94b2-31d9091a073d",
   "metadata": {},
   "outputs": [],
   "source": [
    "X_train_Energy_ESS=X_train_Energy[features]\n",
    "X_test_Energy_ESS=X_test_Energy[features]\n",
    "\n",
    "X_train_Energy=X_train_Energy[list(set(features)-set('ENERGYSTARScore'))]\n",
    "X_test_Energy=X_test_Energy[list(set(features)-set('ENERGYSTARScore'))]"
   ]
  },
  {
   "cell_type": "markdown",
   "id": "72018d69-4b89-463b-a01f-a454c67d95c7",
   "metadata": {
    "tags": []
   },
   "source": [
    "### <font color=\"#337da4\" id=\"2\">2. Modélisation </font>\n",
    "-----------\n",
    "[Back to table of content](#-1) <br>\n",
    "\n",
    "#### <font color=\"#337da4\" id=\"2.1\">2.1 Baseline : Modèle de de predictions </font>\n",
    "\n",
    "A présent, nous allons créer un modèle baseline pour évaluer les performances de nos futurs modèles et vérifier qu'ils améliore les prédictions. Pour cette baseline, nous utiliserons une régression linéaire multivariée."
   ]
  },
  {
   "cell_type": "code",
   "execution_count": 14,
   "id": "2a97b9f9-a262-4d06-b8f1-b8709ce278e2",
   "metadata": {},
   "outputs": [],
   "source": [
    "ListResults=[]"
   ]
  },
  {
   "cell_type": "code",
   "execution_count": 15,
   "id": "520dc42b-1cf5-4df6-b4a0-a2d68a688fe7",
   "metadata": {},
   "outputs": [],
   "source": [
    "from sklearn.model_selection import GridSearchCV,RandomizedSearchCV\n",
    "import xgboost as xgb\n",
    "from sklearn.model_selection import RandomizedSearchCV\n",
    "\n",
    "from sklearn.linear_model import LinearRegression\n",
    "from sklearn.metrics import r2_score, mean_squared_error, mean_absolute_error\n",
    "\n",
    "\n",
    "# Créer un objet modèle de régression linéaire\n",
    "model = LinearRegression()\n",
    "\n",
    "# Créer un dictionnaire de paramètres à optimiser\n",
    "params = {\n",
    "    # 'normalize': [True, False],\n",
    "    'fit_intercept': [True, False]\n",
    "}\n",
    "\n",
    "import time\n",
    "from sklearn.model_selection import GridSearchCV,RandomizedSearchCV\n",
    "import xgboost as xgb\n",
    "from sklearn.model_selection import RandomizedSearchCV\n",
    "\n",
    "from sklearn.linear_model import LinearRegression\n",
    "from sklearn.metrics import r2_score, mean_squared_error, mean_absolute_error"
   ]
  },
  {
   "cell_type": "code",
   "execution_count": 16,
   "id": "bd37fbdc-ae21-408d-b6e2-f91c68a10839",
   "metadata": {},
   "outputs": [
    {
     "data": {
      "text/markdown": [
       "------------------------------------"
      ],
      "text/plain": [
       "<IPython.core.display.Markdown object>"
      ]
     },
     "metadata": {},
     "output_type": "display_data"
    },
    {
     "data": {
      "text/markdown": [
       "#### Modèle de regression : linearregression"
      ],
      "text/plain": [
       "<IPython.core.display.Markdown object>"
      ]
     },
     "metadata": {},
     "output_type": "display_data"
    },
    {
     "data": {
      "text/markdown": [
       "------------------------------------"
      ],
      "text/plain": [
       "<IPython.core.display.Markdown object>"
      ]
     },
     "metadata": {},
     "output_type": "display_data"
    },
    {
     "name": "stdout",
     "output_type": "stream",
     "text": [
      "Score  sur le train :  0.6041646613425733\n",
      "Score  sur le test :  0.5294021144907635\n"
     ]
    },
    {
     "data": {
      "text/markdown": [
       "------------------------------------"
      ],
      "text/plain": [
       "<IPython.core.display.Markdown object>"
      ]
     },
     "metadata": {},
     "output_type": "display_data"
    },
    {
     "name": "stdout",
     "output_type": "stream",
     "text": [
      "MAE   : 0.664\n",
      "MSE   : 0.775\n",
      "R2    : 0.529\n",
      "RMSE  : 0.880\n"
     ]
    },
    {
     "data": {
      "text/markdown": [
       "------------------------------------"
      ],
      "text/plain": [
       "<IPython.core.display.Markdown object>"
      ]
     },
     "metadata": {},
     "output_type": "display_data"
    },
    {
     "data": {
      "text/html": [
       "<div>\n",
       "<style scoped>\n",
       "    .dataframe tbody tr th:only-of-type {\n",
       "        vertical-align: middle;\n",
       "    }\n",
       "\n",
       "    .dataframe tbody tr th {\n",
       "        vertical-align: top;\n",
       "    }\n",
       "\n",
       "    .dataframe thead th {\n",
       "        text-align: right;\n",
       "    }\n",
       "</style>\n",
       "<table border=\"1\" class=\"dataframe\">\n",
       "  <thead>\n",
       "    <tr style=\"text-align: right;\">\n",
       "      <th></th>\n",
       "      <th>ind</th>\n",
       "      <th>Model</th>\n",
       "      <th>MAE</th>\n",
       "      <th>MSE</th>\n",
       "      <th>R2</th>\n",
       "      <th>RMSE</th>\n",
       "      <th>tempsExecution</th>\n",
       "    </tr>\n",
       "  </thead>\n",
       "  <tbody>\n",
       "    <tr>\n",
       "      <th>0</th>\n",
       "      <td>Conso Energy</td>\n",
       "      <td>linearregression</td>\n",
       "      <td>0.664386</td>\n",
       "      <td>0.774791</td>\n",
       "      <td>0.529402</td>\n",
       "      <td>0.880222</td>\n",
       "      <td>0.052583</td>\n",
       "    </tr>\n",
       "  </tbody>\n",
       "</table>\n",
       "</div>"
      ],
      "text/plain": [
       "            ind             Model       MAE       MSE        R2      RMSE  \\\n",
       "0  Conso Energy  linearregression  0.664386  0.774791  0.529402  0.880222   \n",
       "\n",
       "   tempsExecution  \n",
       "0        0.052583  "
      ]
     },
     "metadata": {},
     "output_type": "display_data"
    }
   ],
   "source": [
    "# Créer un objet modèle de régression linéaire\n",
    "model = LinearRegression()\n",
    "\n",
    "# Créer un dictionnaire de paramètres à optimiser\n",
    "params = {\n",
    "    # 'normalize': [True, False],\n",
    "    'fit_intercept': [True, False]\n",
    "}\n",
    "import time\n",
    "\n",
    "def build_model(ModelName, model, X_train, y_train, X_test, y_test):\n",
    "    debut_time = time.time()\n",
    "    # Entraîner le modèle avec les meilleurs paramètres\n",
    "    model.fit(X_train, y_train)\n",
    "    # prediction \n",
    "    y_pred = model.predict(X_test)\n",
    "    # Évaluer les performances du modèle sur l'ensemble de test\n",
    "    score = model.score(X_test, y_test)\n",
    "    \n",
    "    display(Markdown('------------------------------------'))       \n",
    "    display(Markdown('#### Modèle de regression : {0}'.format(ModelName)))\n",
    "    display(Markdown('------------------------------------'))\n",
    "    print(\"Score  sur le train : \", model.score(X_train, y_train)) \n",
    "    print(\"Score  sur le test : \", model.score(X_test, y_test)) \n",
    "    display(Markdown('------------------------------------'))     \n",
    "    # Metrics\n",
    "    mae = mean_absolute_error(y_test, y_pred)\n",
    "    mse = mean_squared_error(y_test, y_pred)\n",
    "    r2 = r2_score(y_test, y_pred)\n",
    "    rmse = np.sqrt(mse)\n",
    "    temps_execution = (time.time() - debut_time)\n",
    "    \n",
    "    print(f\"MAE   : {mae:.3f}\")\n",
    "    print(f\"MSE   : {mse:.3f}\")\n",
    "    print(f\"R2    : {r2:.3f}\")\n",
    "    print(f\"RMSE  : {rmse:.3f}\")\n",
    "    \n",
    "    display(Markdown('------------------------------------')) \n",
    "    \n",
    "    # resultats.append({'Model':model, 'MAE': mae, 'MSE':mse,'R2': r2, 'RMSE': rmse}, ignore_index=True)\n",
    "    df=pd.DataFrame({'ind':'Conso Energy','Model':ModelName, 'MAE': mae, 'MSE':mse,'R2': r2, 'RMSE': rmse,\n",
    "                        'tempsExecution':temps_execution}, index=[len(ListResults)])            \n",
    "    ListResults.append(df)\n",
    "    display(df)\n",
    "\n",
    "    \n",
    "def build_model2(ModelName, model,params, X_train, y_train, X_test, y_test, ind,cv=5):\n",
    "    debut_time = time.time()\n",
    "\n",
    "    # Créer un objet GridSearchCV\n",
    "    if model==xgb.XGBRegressor(): # tree_method='gpu_hist'\n",
    "        grid = RandomizedSearchCV(model, params, cv=cv,n_jobs = -1)\n",
    "    else:\n",
    "        grid = GridSearchCV(model, params, cv=cv,n_jobs = -1)\n",
    "\n",
    "    # Trouver les meilleurs paramètres avec GridSearchCV\n",
    "    grid.fit(X_train, y_train)\n",
    "    best_params = grid.best_params_\n",
    "\n",
    "\n",
    "    \n",
    "    # Ré-entraîner le modèle avec les meilleurs paramètres\n",
    "    model.set_params(**best_params)\n",
    "    model.fit(X_train, y_train)\n",
    "\n",
    "    # Évaluer les performances du modèle sur l'ensemble de test\n",
    "    score = model.score(X_test, y_test)\n",
    "    \n",
    "    display(Markdown('------------------------------------'))       \n",
    "    display(Markdown('#### Modèle de regression : {0}'.format(ModelName)))\n",
    "    display(Markdown('------------------------------------'))\n",
    "    print(\"Meilleurs paramètres : \", grid.best_params_)\n",
    "    print(\"Meilleur score test : \", grid.score(X_test, y_test)) \n",
    "    print('Score du modèle sur l\\'ensemble de test :', score)\n",
    "    display(Markdown('------------------------------------')) \n",
    "    \n",
    "    #Prediction using test set \n",
    "    y_pred = model.predict(X_test)\n",
    "\n",
    "    # Metrics\n",
    "    mae = mean_absolute_error(y_test, y_pred)\n",
    "    mse = mean_squared_error(y_test, y_pred)\n",
    "    r2 = r2_score(y_test, y_pred)\n",
    "    rmse = np.sqrt(mse)\n",
    "    temps_execution = (time.time() - debut_time)\n",
    "    \n",
    "    print(f\"MAE : {mae:.3f}\")\n",
    "    print(f\"MSE : {mse:.3f}\")\n",
    "    print(f\"R2 : {r2:.3f}\")\n",
    "    print(f\"RMSE : {rmse:.3f}\")\n",
    "    display(Markdown('------------------------------------')) \n",
    "    \n",
    "    df=pd.DataFrame({'ind':'Conso Energy','Model':ModelName, 'MAE': mae, 'MSE':mse,'R2': r2, 'RMSE': rmse,\n",
    "                    'tempsExecution':temps_execution/60}, index=[len(ListResults)])            \n",
    "    ListResults.append(df)\n",
    "    display(df)\n",
    "    return model.set_params(**best_params), best_params\n",
    "\n",
    "    \n",
    "build_model('linearregression', model, X_train_Energy, y_train_Energy, X_test_Energy, y_test_Energy)"
   ]
  },
  {
   "cell_type": "code",
   "execution_count": 17,
   "id": "7faba93d-8e1e-44c4-841b-4189b9e6ee2b",
   "metadata": {},
   "outputs": [
    {
     "data": {
      "text/html": [
       "<div>\n",
       "<style scoped>\n",
       "    .dataframe tbody tr th:only-of-type {\n",
       "        vertical-align: middle;\n",
       "    }\n",
       "\n",
       "    .dataframe tbody tr th {\n",
       "        vertical-align: top;\n",
       "    }\n",
       "\n",
       "    .dataframe thead th {\n",
       "        text-align: right;\n",
       "    }\n",
       "</style>\n",
       "<table border=\"1\" class=\"dataframe\">\n",
       "  <thead>\n",
       "    <tr style=\"text-align: right;\">\n",
       "      <th></th>\n",
       "      <th>ind</th>\n",
       "      <th>Model</th>\n",
       "      <th>MAE</th>\n",
       "      <th>MSE</th>\n",
       "      <th>R2</th>\n",
       "      <th>RMSE</th>\n",
       "      <th>tempsExecution</th>\n",
       "    </tr>\n",
       "  </thead>\n",
       "  <tbody>\n",
       "    <tr>\n",
       "      <th>0</th>\n",
       "      <td>Conso Energy</td>\n",
       "      <td>linearregression</td>\n",
       "      <td>0.664386</td>\n",
       "      <td>0.774791</td>\n",
       "      <td>0.529402</td>\n",
       "      <td>0.880222</td>\n",
       "      <td>0.052583</td>\n",
       "    </tr>\n",
       "  </tbody>\n",
       "</table>\n",
       "</div>"
      ],
      "text/plain": [
       "            ind             Model       MAE       MSE        R2      RMSE  \\\n",
       "0  Conso Energy  linearregression  0.664386  0.774791  0.529402  0.880222   \n",
       "\n",
       "   tempsExecution  \n",
       "0        0.052583  "
      ]
     },
     "execution_count": 17,
     "metadata": {},
     "output_type": "execute_result"
    }
   ],
   "source": [
    "resultats=pd.concat(ListResults,axis=0)\n",
    "resultats"
   ]
  },
  {
   "cell_type": "markdown",
   "id": "cef9cadb-31f3-4c97-8a93-5b3207061091",
   "metadata": {},
   "source": [
    "#### <font color=\"#337da4\" id=\"2.2\">2.2 Lasso Ridge Elastict net </font>\n",
    "<details>\n",
    "<summary><font color=\"purple\"><b>Explication du modèle </b></font></summary>\n",
    "\n",
    "La régression linéaire est un modèle simple tente de minimiser la somme des erreurs au carré. \n",
    "L'erreur dans ce cas est la différence entre la donnée réelle et sa valeur prédite. \n",
    "Pour produire un modèle plus précis de données complexes, nous pouvons ajouter un <b>terme de pénalité à l'équation OLS</b>.\n",
    "Une pénalité ajoute un <b>biais</b> sur certaines valeurs. \n",
    "\n",
    "Celles-ci sont appelées <b>régularisation L1 <em>(régression Lasso)</em></b> et <b>régression L2 <em>(régression Ridge)</em></b>. Le meilleur modèle que nous pouvons espérer proposer minimise à la fois le biais et la variance.\n",
    "\n",
    "<h5>Régression Ridge</h5>\n",
    "La régression Ridge utilise une régularisation L2 qui ajoute la pénalité suivante à l'équation OLS : $\\large + \\lambda \\sum_{j=0}^{p} w^0_j$\n",
    "\n",
    "Le terme L2 est égal au carré de la magnitude des coefficients. Dans ce cas, si lambda ($\\lambda$) est égal à zéro, l'équation est l'OLS de base mais si elle est supérieure à zéro, nous ajoutons une contrainte aux coefficients. <b>La régression Ridge diminue la complexité d'un modèle mais ne réduit pas le nombre de variables, elle réduit simplement leur effet</b>.\n",
    "    \n",
    "<h5>Régression Lasso</h5>\n",
    "La régression Lasso utilise le terme de pénalité L1 et représente le Least Absolute Shrinkage et l'opérateur de sélection. La pénalité appliquée est égale à la valeur absolue de la magnitude des coefficients : $\\large + \\lambda \\sum_{j=0}^{p} |w_j|$\n",
    "    \n",
    "    <b>L'application de ce terme peut éliminer complètement certaines variables</b> et donner un sous-ensemble de prédicteurs qui aident à atténuer la multi-colinéarité et la complexité du modèle.\n",
    "    \n",
    "<h5>Elastic Net</h5>\n",
    "Elastic Net incorpore des pénalités de régularisation L1 et L2 :\n",
    "$$\\large \\frac{\\sum^{n}_{i=1}(y_i - x^i_j \\hat{\\beta})^2}{2n} + \\lambda \\left( \\frac{1 - \\alpha}{2} \\sum^{m}_{j=1} \\hat{\\beta}^2_j + \\alpha \\sum^{m}_{j=1} |\\hat{\\beta}_j| \\right) $$\n",
    "    \n",
    "En plus de définir et de choisir une valeur lambda, ElasticNet permet également d'ajuster le paramètre alpha où $\\large \\alpha = 0$ correspond à Ridge et $\\large \\alpha = 1$ à Lasso. On peut donc choisir une valeur alpha entre 0 et 1 pour optimiser ElasticNet <em>(cela réduira certains coefficients et en mettra d'autres à 0 pour une sélection parcimonieuse)</em>.\n",
    "</details>\n"
   ]
  },
  {
   "cell_type": "code",
   "execution_count": 18,
   "id": "beb35b00-1e1d-4474-8a89-bd8c4780d556",
   "metadata": {},
   "outputs": [
    {
     "data": {
      "text/markdown": [
       "------------------------------------"
      ],
      "text/plain": [
       "<IPython.core.display.Markdown object>"
      ]
     },
     "metadata": {},
     "output_type": "display_data"
    },
    {
     "data": {
      "text/markdown": [
       "#### Modèle de regression : lasso"
      ],
      "text/plain": [
       "<IPython.core.display.Markdown object>"
      ]
     },
     "metadata": {},
     "output_type": "display_data"
    },
    {
     "data": {
      "text/markdown": [
       "------------------------------------"
      ],
      "text/plain": [
       "<IPython.core.display.Markdown object>"
      ]
     },
     "metadata": {},
     "output_type": "display_data"
    },
    {
     "name": "stdout",
     "output_type": "stream",
     "text": [
      "Score  sur le train :  0.3128026592722304\n",
      "Score  sur le test :  0.2978718353029266\n"
     ]
    },
    {
     "data": {
      "text/markdown": [
       "------------------------------------"
      ],
      "text/plain": [
       "<IPython.core.display.Markdown object>"
      ]
     },
     "metadata": {},
     "output_type": "display_data"
    },
    {
     "name": "stdout",
     "output_type": "stream",
     "text": [
      "MAE   : 0.850\n",
      "MSE   : 1.156\n",
      "R2    : 0.298\n",
      "RMSE  : 1.075\n"
     ]
    },
    {
     "data": {
      "text/markdown": [
       "------------------------------------"
      ],
      "text/plain": [
       "<IPython.core.display.Markdown object>"
      ]
     },
     "metadata": {},
     "output_type": "display_data"
    },
    {
     "data": {
      "text/html": [
       "<div>\n",
       "<style scoped>\n",
       "    .dataframe tbody tr th:only-of-type {\n",
       "        vertical-align: middle;\n",
       "    }\n",
       "\n",
       "    .dataframe tbody tr th {\n",
       "        vertical-align: top;\n",
       "    }\n",
       "\n",
       "    .dataframe thead th {\n",
       "        text-align: right;\n",
       "    }\n",
       "</style>\n",
       "<table border=\"1\" class=\"dataframe\">\n",
       "  <thead>\n",
       "    <tr style=\"text-align: right;\">\n",
       "      <th></th>\n",
       "      <th>ind</th>\n",
       "      <th>Model</th>\n",
       "      <th>MAE</th>\n",
       "      <th>MSE</th>\n",
       "      <th>R2</th>\n",
       "      <th>RMSE</th>\n",
       "      <th>tempsExecution</th>\n",
       "    </tr>\n",
       "  </thead>\n",
       "  <tbody>\n",
       "    <tr>\n",
       "      <th>1</th>\n",
       "      <td>Conso Energy</td>\n",
       "      <td>lasso</td>\n",
       "      <td>0.850251</td>\n",
       "      <td>1.155981</td>\n",
       "      <td>0.297872</td>\n",
       "      <td>1.075166</td>\n",
       "      <td>0.02158</td>\n",
       "    </tr>\n",
       "  </tbody>\n",
       "</table>\n",
       "</div>"
      ],
      "text/plain": [
       "            ind  Model       MAE       MSE        R2      RMSE  tempsExecution\n",
       "1  Conso Energy  lasso  0.850251  1.155981  0.297872  1.075166         0.02158"
      ]
     },
     "metadata": {},
     "output_type": "display_data"
    },
    {
     "data": {
      "text/plain": [
       "Lasso()"
      ]
     },
     "execution_count": 18,
     "metadata": {},
     "output_type": "execute_result"
    }
   ],
   "source": [
    "from sklearn.linear_model import Lasso\n",
    "model=Lasso() # alpha=0.1: Définition du paramètre de régularisation alpha\n",
    "\n",
    "build_model('lasso', model, X_train_Energy, y_train_Energy, X_test_Energy, y_test_Energy)\n",
    "model"
   ]
  },
  {
   "cell_type": "code",
   "execution_count": 19,
   "id": "03863953-2195-4b41-ba84-e83084575b13",
   "metadata": {},
   "outputs": [
    {
     "data": {
      "text/markdown": [
       "------------------------------------"
      ],
      "text/plain": [
       "<IPython.core.display.Markdown object>"
      ]
     },
     "metadata": {},
     "output_type": "display_data"
    },
    {
     "data": {
      "text/markdown": [
       "#### Modèle de regression : ridge"
      ],
      "text/plain": [
       "<IPython.core.display.Markdown object>"
      ]
     },
     "metadata": {},
     "output_type": "display_data"
    },
    {
     "data": {
      "text/markdown": [
       "------------------------------------"
      ],
      "text/plain": [
       "<IPython.core.display.Markdown object>"
      ]
     },
     "metadata": {},
     "output_type": "display_data"
    },
    {
     "name": "stdout",
     "output_type": "stream",
     "text": [
      "Score  sur le train :  0.6041213124564093\n",
      "Score  sur le test :  0.5307638620884121\n"
     ]
    },
    {
     "data": {
      "text/markdown": [
       "------------------------------------"
      ],
      "text/plain": [
       "<IPython.core.display.Markdown object>"
      ]
     },
     "metadata": {},
     "output_type": "display_data"
    },
    {
     "name": "stdout",
     "output_type": "stream",
     "text": [
      "MAE   : 0.664\n",
      "MSE   : 0.773\n",
      "R2    : 0.531\n",
      "RMSE  : 0.879\n"
     ]
    },
    {
     "data": {
      "text/markdown": [
       "------------------------------------"
      ],
      "text/plain": [
       "<IPython.core.display.Markdown object>"
      ]
     },
     "metadata": {},
     "output_type": "display_data"
    },
    {
     "data": {
      "text/html": [
       "<div>\n",
       "<style scoped>\n",
       "    .dataframe tbody tr th:only-of-type {\n",
       "        vertical-align: middle;\n",
       "    }\n",
       "\n",
       "    .dataframe tbody tr th {\n",
       "        vertical-align: top;\n",
       "    }\n",
       "\n",
       "    .dataframe thead th {\n",
       "        text-align: right;\n",
       "    }\n",
       "</style>\n",
       "<table border=\"1\" class=\"dataframe\">\n",
       "  <thead>\n",
       "    <tr style=\"text-align: right;\">\n",
       "      <th></th>\n",
       "      <th>ind</th>\n",
       "      <th>Model</th>\n",
       "      <th>MAE</th>\n",
       "      <th>MSE</th>\n",
       "      <th>R2</th>\n",
       "      <th>RMSE</th>\n",
       "      <th>tempsExecution</th>\n",
       "    </tr>\n",
       "  </thead>\n",
       "  <tbody>\n",
       "    <tr>\n",
       "      <th>2</th>\n",
       "      <td>Conso Energy</td>\n",
       "      <td>ridge</td>\n",
       "      <td>0.663717</td>\n",
       "      <td>0.772549</td>\n",
       "      <td>0.530764</td>\n",
       "      <td>0.878947</td>\n",
       "      <td>0.025141</td>\n",
       "    </tr>\n",
       "  </tbody>\n",
       "</table>\n",
       "</div>"
      ],
      "text/plain": [
       "            ind  Model       MAE       MSE        R2      RMSE  tempsExecution\n",
       "2  Conso Energy  ridge  0.663717  0.772549  0.530764  0.878947        0.025141"
      ]
     },
     "metadata": {},
     "output_type": "display_data"
    },
    {
     "data": {
      "text/plain": [
       "Ridge()"
      ]
     },
     "execution_count": 19,
     "metadata": {},
     "output_type": "execute_result"
    }
   ],
   "source": [
    "from sklearn.linear_model import Ridge\n",
    "# Estimation du modèle Ridge Regression\n",
    "model=Ridge() # alpha=0.5: Définition du paramètre de régularisation alpha\n",
    "\n",
    "build_model('ridge', model, X_train_Energy, y_train_Energy, X_test_Energy, y_test_Energy)\n",
    "model"
   ]
  },
  {
   "cell_type": "code",
   "execution_count": null,
   "id": "c1a51f39-8ddb-4621-b060-e9d5dff0c71d",
   "metadata": {},
   "outputs": [],
   "source": []
  },
  {
   "cell_type": "code",
   "execution_count": 20,
   "id": "445e3dbe-15ea-415e-b631-872894b3320f",
   "metadata": {},
   "outputs": [
    {
     "data": {
      "text/markdown": [
       "------------------------------------"
      ],
      "text/plain": [
       "<IPython.core.display.Markdown object>"
      ]
     },
     "metadata": {},
     "output_type": "display_data"
    },
    {
     "data": {
      "text/markdown": [
       "#### Modèle de regression : elasticnet"
      ],
      "text/plain": [
       "<IPython.core.display.Markdown object>"
      ]
     },
     "metadata": {},
     "output_type": "display_data"
    },
    {
     "data": {
      "text/markdown": [
       "------------------------------------"
      ],
      "text/plain": [
       "<IPython.core.display.Markdown object>"
      ]
     },
     "metadata": {},
     "output_type": "display_data"
    },
    {
     "name": "stdout",
     "output_type": "stream",
     "text": [
      "Score  sur le train :  0.3939820399174264\n",
      "Score  sur le test :  0.36574226122477926\n"
     ]
    },
    {
     "data": {
      "text/markdown": [
       "------------------------------------"
      ],
      "text/plain": [
       "<IPython.core.display.Markdown object>"
      ]
     },
     "metadata": {},
     "output_type": "display_data"
    },
    {
     "name": "stdout",
     "output_type": "stream",
     "text": [
      "MAE   : 0.805\n",
      "MSE   : 1.044\n",
      "R2    : 0.366\n",
      "RMSE  : 1.022\n"
     ]
    },
    {
     "data": {
      "text/markdown": [
       "------------------------------------"
      ],
      "text/plain": [
       "<IPython.core.display.Markdown object>"
      ]
     },
     "metadata": {},
     "output_type": "display_data"
    },
    {
     "data": {
      "text/html": [
       "<div>\n",
       "<style scoped>\n",
       "    .dataframe tbody tr th:only-of-type {\n",
       "        vertical-align: middle;\n",
       "    }\n",
       "\n",
       "    .dataframe tbody tr th {\n",
       "        vertical-align: top;\n",
       "    }\n",
       "\n",
       "    .dataframe thead th {\n",
       "        text-align: right;\n",
       "    }\n",
       "</style>\n",
       "<table border=\"1\" class=\"dataframe\">\n",
       "  <thead>\n",
       "    <tr style=\"text-align: right;\">\n",
       "      <th></th>\n",
       "      <th>ind</th>\n",
       "      <th>Model</th>\n",
       "      <th>MAE</th>\n",
       "      <th>MSE</th>\n",
       "      <th>R2</th>\n",
       "      <th>RMSE</th>\n",
       "      <th>tempsExecution</th>\n",
       "    </tr>\n",
       "  </thead>\n",
       "  <tbody>\n",
       "    <tr>\n",
       "      <th>3</th>\n",
       "      <td>Conso Energy</td>\n",
       "      <td>elasticnet</td>\n",
       "      <td>0.805482</td>\n",
       "      <td>1.044239</td>\n",
       "      <td>0.365742</td>\n",
       "      <td>1.02188</td>\n",
       "      <td>0.017284</td>\n",
       "    </tr>\n",
       "  </tbody>\n",
       "</table>\n",
       "</div>"
      ],
      "text/plain": [
       "            ind       Model       MAE       MSE        R2     RMSE  \\\n",
       "3  Conso Energy  elasticnet  0.805482  1.044239  0.365742  1.02188   \n",
       "\n",
       "   tempsExecution  \n",
       "3        0.017284  "
      ]
     },
     "metadata": {},
     "output_type": "display_data"
    },
    {
     "data": {
      "text/plain": [
       "ElasticNet()"
      ]
     },
     "execution_count": 20,
     "metadata": {},
     "output_type": "execute_result"
    }
   ],
   "source": [
    "from sklearn.linear_model import ElasticNet\n",
    "# Créer un objet modèle de régression linéaire\n",
    "model = ElasticNet()\n",
    "\n",
    "# Créer un dictionnaire de paramètres à optimiser\n",
    "params = {# 'tol' : [0.1,0.01,0.001,0.0001],\n",
    "              \"alpha\": [0.0001, 0.001, 0.01, 0.1, 1, 10, 100],  #alpha, coef qui multiplie le terme de pénalité)\n",
    "              \"l1_ratio\": np.arange(0.0, 1.0, 0.1)} # L1 ratio , =1 équivaut à un Lasso, 0 à un Ridge\n",
    "\n",
    "build_model('elasticnet', model, X_train_Energy, y_train_Energy, X_test_Energy, y_test_Energy)\n",
    "model"
   ]
  },
  {
   "attachments": {
    "608f39cf-1541-4a7d-b200-d2396fc34afd.png": {
     "image/png": "[encoded data removed]"
    }
   },
   "cell_type": "markdown",
   "id": "d85e5d41-18bc-4c77-857b-5a9dc269bd61",
   "metadata": {},
   "source": [
    "#### <font color=\"#337da4\" id=\"2.3\">2.3 Modèle Support Vector Regression (SVR) </font>\n",
    "\n",
    "<details>\n",
    "<summary><font color=\"purple\"><b>Explication du modèle </b></font></summary>\n",
    "<h5>Les machines à vecteur de support</h5>\n",
    "Dans le cas de données linéairement séparables, il existe généralement une infinité d'hyperplans séparateurs qui classifient correctement les données. Pour formaliser lequel parmi ces multiples hyperplans nous convient le mieux, nous allons définir la <b>marge d'un hyperplan</b> séparateur $\\mathcal{H}$ comme deux fois la distance de $\\mathcal{H}$ au point du jeu de données qui en est le plus proche.\n",
    "    \n",
    "Dans la plupart des cas, les données ne sont pas linéairement séparables. Il va donc falloir accepter de faire des erreurs, autrement dit que certains points de notre jeu d'entraînement se retrouvent du mauvais côté de la frontière de la zone d'indécision.\n",
    "\n",
    "![14992598056588_P2C2-9.png](attachment:608f39cf-1541-4a7d-b200-d2396fc34afd.png)\n",
    "    \n",
    "    \n",
    "Plus la marge est grande, plus nous somme susceptibles d'avoir d'erreurs. Nous allons donc devoir <b>minimiser la marge et l'erreur simultanément</b> :\n",
    "\n",
    "$$\\large arg \\, {\\underset{w \\in \\mathbb{R}^{p}, b \\in \\mathbb{R}}{min}} \\frac{1}{2} ||w||^2_2 + C \\text{ erreur}$$\n",
    "\n",
    "L'hyperparamètre $\\large C$ sert à quantifier l'importance relative du terme d'erreur et du terme de marge.\n",
    "\n",
    "Il s'agit donc bien d'une <b>régularisation ℓ2</b>, et le coefficient $\\large C$ vaut $\\large \\frac{1}{2\\lambda}$ par rapport à ce que nous avons pu écrire pour la régression Ridge.\n",
    "    \n",
    "<b>Les SVM peuvent aussi être utilisées pour des problèmes de régression <em>(SVR)</em></b> et on cherche toujours à minimiser $\\large ||w||^2_2$ \n",
    "</details>"
   ]
  },
  {
   "cell_type": "code",
   "execution_count": 21,
   "id": "6613a8a0-8f3a-4e2c-8a4b-cb8cca232ae8",
   "metadata": {},
   "outputs": [],
   "source": [
    "from sklearn.svm import LinearSVR\n",
    "# Créer un objet modèle de régression linéaire\n",
    "model = LinearSVR()\n",
    "\n",
    "# Créer un dictionnaire de paramètres à optimiser\n",
    "params = {'C': np.logspace(-4, 0, 5),\n",
    "             'epsilon' : [0, 0.01, 0.1, 0.5, 1, 2],\n",
    "             'loss' : [\"epsilon_insensitive\",\"squared_epsilon_insensitive\"],\n",
    "             'max_iter': [10, 100, 1000]}   "
   ]
  },
  {
   "cell_type": "code",
   "execution_count": 22,
   "id": "28e8da4a-6cda-430d-a0c9-a6f655deed66",
   "metadata": {},
   "outputs": [
    {
     "name": "stderr",
     "output_type": "stream",
     "text": [
      "C:\\Users\\Fane0763\\Anaconda3\\lib\\site-packages\\sklearn\\utils\\validation.py:993: DataConversionWarning: A column-vector y was passed when a 1d array was expected. Please change the shape of y to (n_samples, ), for example using ravel().\n",
      "  y = column_or_1d(y, warn=True)\n",
      "C:\\Users\\Fane0763\\Anaconda3\\lib\\site-packages\\sklearn\\svm\\_base.py:1206: ConvergenceWarning: Liblinear failed to converge, increase the number of iterations.\n",
      "  warnings.warn(\n"
     ]
    },
    {
     "data": {
      "text/markdown": [
       "------------------------------------"
      ],
      "text/plain": [
       "<IPython.core.display.Markdown object>"
      ]
     },
     "metadata": {},
     "output_type": "display_data"
    },
    {
     "data": {
      "text/markdown": [
       "#### Modèle de regression : linearsvr"
      ],
      "text/plain": [
       "<IPython.core.display.Markdown object>"
      ]
     },
     "metadata": {},
     "output_type": "display_data"
    },
    {
     "data": {
      "text/markdown": [
       "------------------------------------"
      ],
      "text/plain": [
       "<IPython.core.display.Markdown object>"
      ]
     },
     "metadata": {},
     "output_type": "display_data"
    },
    {
     "name": "stdout",
     "output_type": "stream",
     "text": [
      "Score  sur le train :  0.5654377094545792\n",
      "Score  sur le test :  0.4298909456343841\n"
     ]
    },
    {
     "data": {
      "text/markdown": [
       "------------------------------------"
      ],
      "text/plain": [
       "<IPython.core.display.Markdown object>"
      ]
     },
     "metadata": {},
     "output_type": "display_data"
    },
    {
     "name": "stdout",
     "output_type": "stream",
     "text": [
      "MAE   : 0.660\n",
      "MSE   : 0.939\n",
      "R2    : 0.430\n",
      "RMSE  : 0.969\n"
     ]
    },
    {
     "data": {
      "text/markdown": [
       "------------------------------------"
      ],
      "text/plain": [
       "<IPython.core.display.Markdown object>"
      ]
     },
     "metadata": {},
     "output_type": "display_data"
    },
    {
     "data": {
      "text/html": [
       "<div>\n",
       "<style scoped>\n",
       "    .dataframe tbody tr th:only-of-type {\n",
       "        vertical-align: middle;\n",
       "    }\n",
       "\n",
       "    .dataframe tbody tr th {\n",
       "        vertical-align: top;\n",
       "    }\n",
       "\n",
       "    .dataframe thead th {\n",
       "        text-align: right;\n",
       "    }\n",
       "</style>\n",
       "<table border=\"1\" class=\"dataframe\">\n",
       "  <thead>\n",
       "    <tr style=\"text-align: right;\">\n",
       "      <th></th>\n",
       "      <th>ind</th>\n",
       "      <th>Model</th>\n",
       "      <th>MAE</th>\n",
       "      <th>MSE</th>\n",
       "      <th>R2</th>\n",
       "      <th>RMSE</th>\n",
       "      <th>tempsExecution</th>\n",
       "    </tr>\n",
       "  </thead>\n",
       "  <tbody>\n",
       "    <tr>\n",
       "      <th>4</th>\n",
       "      <td>Conso Energy</td>\n",
       "      <td>linearsvr</td>\n",
       "      <td>0.659926</td>\n",
       "      <td>0.938625</td>\n",
       "      <td>0.429891</td>\n",
       "      <td>0.968827</td>\n",
       "      <td>0.029315</td>\n",
       "    </tr>\n",
       "  </tbody>\n",
       "</table>\n",
       "</div>"
      ],
      "text/plain": [
       "            ind      Model       MAE       MSE        R2      RMSE  \\\n",
       "4  Conso Energy  linearsvr  0.659926  0.938625  0.429891  0.968827   \n",
       "\n",
       "   tempsExecution  \n",
       "4        0.029315  "
      ]
     },
     "metadata": {},
     "output_type": "display_data"
    }
   ],
   "source": [
    "build_model('linearsvr', model, X_train_Energy, y_train_Energy, X_test_Energy, y_test_Energy)"
   ]
  },
  {
   "cell_type": "markdown",
   "id": "a3ba0624-50be-4fdb-afd8-2448a930e6e1",
   "metadata": {},
   "source": [
    "### <font color=\"#337da4\" id=\"3\">3. Modèle non-linéaires</font>\n",
    "[Back to table of content](#-1) <br>"
   ]
  },
  {
   "cell_type": "markdown",
   "id": "aae504c3-3b8b-4662-8561-92d9c088463a",
   "metadata": {},
   "source": [
    "#### <font color=\"#337da4\" id=\"3.1\">3.1. Modèle RandomForestRegressor</font>\n",
    "\n",
    "<details>\n",
    "<summary><font color=\"purple\"><b>Explication du modèle</b></font></summary>\n",
    "<h5>Random Forest</h5>\n",
    "Les \"forêts aléatoires\" sont des algorithmes qui se basent sur l'assemblage d'arbre de décision indépendants.\n",
    "\n",
    "Chaque arbre traitant seulement une partie du problème grâce à un double tirage aléatoire :\n",
    "<ul>\n",
    "    <li>Un tirage avec remplacement sur les individus : C'est le <b>tree bagging</b></li>\n",
    "    <li>Un tirage aléatoire sur les variables : le <b>feature sampling</b></li>\n",
    "</ul>\n",
    "\n",
    "Au final, tous ces arbres de décisions indépendants sont assemblés. La prédiction faite par le random forest pour des données inconnues est alors la moyenne de tous les arbres dans le cas de la régression.\n",
    "    \n",
    "<h5>Hyperparamètre  : <i>Estimation de max_depth, n_estimators, min_samples_leaf et min_samples_split</i>.</h5>\n",
    "<ul>\n",
    "    <li> <i>n_estimators</i> : nombre d’arbres à considérer pour le ramdom forest</li>\n",
    "    <li> <i>max_depth</i> : nombre maximum de niveaux dans chaque arbre de décision (profondeur) sinon si on ne donne pas de limitation, le processus peut etre long</li>\n",
    "    <li> <i>min_samples_leaf</i> = nombre minimum d'observations pour créer une feuille (limitation implicite de la profondeur) (limite pour ne pas avoir de feuille trop petite et avoir du sur-apprentissage).</li>\n",
    "    <li> <i>min_samples_split</i> = nombre minimum d'observations dans un noeud avant la division du noeud</li>\n",
    "</ul>    \n",
    "    \n",
    "\n",
    "[link](https://blent.ai/random-forest-comment-ca-marche/)\n",
    "    \n",
    "</details>"
   ]
  },
  {
   "cell_type": "code",
   "execution_count": 25,
   "id": "ef1af3db-82ab-437e-b607-8ee4a5131a2a",
   "metadata": {},
   "outputs": [],
   "source": [
    "from sklearn.ensemble import RandomForestRegressor\n",
    "# Créer le modèle\n",
    "model = RandomForestRegressor()\n",
    "\n",
    "params = {\n",
    "    'n_estimators' : [10,50,100,200,300,500], # nombre d'arbres de décision\n",
    "    'max_depth': [1, 5,10,20,30,40,50], # nombre maximum de niveaux dans chaque arbre de décision ,\n",
    "    'min_samples_leaf' : [1,3,5,10,20,50], # nombre de feuilles minimales dans un noeud\n",
    "    'max_features': ['auto', 'sqrt', 'log2'] # nombre de features observées pour chaque arbre\n",
    "}"
   ]
  },
  {
   "cell_type": "code",
   "execution_count": 26,
   "id": "2589bfbf-b964-4e72-8739-10b8b54a592d",
   "metadata": {},
   "outputs": [
    {
     "data": {
      "text/markdown": [
       "------------------------------------"
      ],
      "text/plain": [
       "<IPython.core.display.Markdown object>"
      ]
     },
     "metadata": {},
     "output_type": "display_data"
    },
    {
     "data": {
      "text/markdown": [
       "#### Modèle de regression : randomforest"
      ],
      "text/plain": [
       "<IPython.core.display.Markdown object>"
      ]
     },
     "metadata": {},
     "output_type": "display_data"
    },
    {
     "data": {
      "text/markdown": [
       "------------------------------------"
      ],
      "text/plain": [
       "<IPython.core.display.Markdown object>"
      ]
     },
     "metadata": {},
     "output_type": "display_data"
    },
    {
     "name": "stdout",
     "output_type": "stream",
     "text": [
      "Score  sur le train :  0.9689695453322946\n",
      "Score  sur le test :  0.7598664513636646\n"
     ]
    },
    {
     "data": {
      "text/markdown": [
       "------------------------------------"
      ],
      "text/plain": [
       "<IPython.core.display.Markdown object>"
      ]
     },
     "metadata": {},
     "output_type": "display_data"
    },
    {
     "name": "stdout",
     "output_type": "stream",
     "text": [
      "MAE   : 0.466\n",
      "MSE   : 0.395\n",
      "R2    : 0.760\n",
      "RMSE  : 0.629\n"
     ]
    },
    {
     "data": {
      "text/markdown": [
       "------------------------------------"
      ],
      "text/plain": [
       "<IPython.core.display.Markdown object>"
      ]
     },
     "metadata": {},
     "output_type": "display_data"
    },
    {
     "data": {
      "text/html": [
       "<div>\n",
       "<style scoped>\n",
       "    .dataframe tbody tr th:only-of-type {\n",
       "        vertical-align: middle;\n",
       "    }\n",
       "\n",
       "    .dataframe tbody tr th {\n",
       "        vertical-align: top;\n",
       "    }\n",
       "\n",
       "    .dataframe thead th {\n",
       "        text-align: right;\n",
       "    }\n",
       "</style>\n",
       "<table border=\"1\" class=\"dataframe\">\n",
       "  <thead>\n",
       "    <tr style=\"text-align: right;\">\n",
       "      <th></th>\n",
       "      <th>ind</th>\n",
       "      <th>Model</th>\n",
       "      <th>MAE</th>\n",
       "      <th>MSE</th>\n",
       "      <th>R2</th>\n",
       "      <th>RMSE</th>\n",
       "      <th>tempsExecution</th>\n",
       "    </tr>\n",
       "  </thead>\n",
       "  <tbody>\n",
       "    <tr>\n",
       "      <th>6</th>\n",
       "      <td>Conso Energy</td>\n",
       "      <td>randomforest</td>\n",
       "      <td>0.465511</td>\n",
       "      <td>0.395355</td>\n",
       "      <td>0.759866</td>\n",
       "      <td>0.628773</td>\n",
       "      <td>0.418966</td>\n",
       "    </tr>\n",
       "  </tbody>\n",
       "</table>\n",
       "</div>"
      ],
      "text/plain": [
       "            ind         Model       MAE       MSE        R2      RMSE  \\\n",
       "6  Conso Energy  randomforest  0.465511  0.395355  0.759866  0.628773   \n",
       "\n",
       "   tempsExecution  \n",
       "6        0.418966  "
      ]
     },
     "metadata": {},
     "output_type": "display_data"
    }
   ],
   "source": [
    "build_model('randomforest',model, X_train_Energy, y_train_Energy.values.ravel(), X_test_Energy, y_test_Energy.values.ravel())"
   ]
  },
  {
   "cell_type": "markdown",
   "id": "745de28e-6aae-4736-8c41-4f817eee9c68",
   "metadata": {},
   "source": [
    "#### <font color=\"#337da4\" id=\"3.2\">3.2. Modèle XGBoost *(eXtreme Gradient Boosting)*</font>\n",
    "\n",
    "<details>\n",
    "<summary><font color=\"purple\"><b>Explication du modèle </b></font></summary>\n",
    "<h5>XGBoost</h5>\n",
    "Comme son nom l'indique, ce modèle est un algorithme de gradient boosting. Ce boosting consiste à assembler plusieurs algorithmes ayant une performance peu élevée pour en créer un beaucoup plus efficace.\n",
    "\n",
    "Dans le cadre de la régression, les variables à prédire vont être estimées avec un premier modèle, puis les résidus de ce modèle deviendront les variables cible du second modèle, et ainsi de suite.\n",
    "    \n",
    "Pour pouvoir prédire un output en fonction d’un input dont on ne connait pas la variable cible, il faut prédire le résidu de chaque modèle et ensuite en faire la somme.\n",
    "    \n",
    "Pour l'agorithme XGBoost, réalisé une GridSearch en \"brute\", en testant toutes les combinaisons est très long et très couteux en temps de calcul. Pour palier à ce problème, nous allons ici utiliser une grille de recherche aléatoire.\n",
    "</details>"
   ]
  },
  {
   "cell_type": "code",
   "execution_count": 27,
   "id": "f5d2d95a-d943-423a-aca7-107bb6d9502b",
   "metadata": {},
   "outputs": [],
   "source": [
    "import xgboost as xgb\n",
    "from sklearn.model_selection import RandomizedSearchCV\n",
    "\n",
    "model=xgb.XGBRegressor() # Utilisation du GPU tree_method='gpu_hist'\n",
    "\n",
    "params = {'learning_rate' : [0.001, 0.01, 0.1, 0.2, 0,3],\n",
    "             'gamma': [0, 0.25, 0.5, 1.0],\n",
    "             'max_depth': [6, 10, 15, 20],\n",
    "             'min_child_weight' : [0.5, 1.0, 3.0, 5.0, 7.0, 10.0],\n",
    "             'n_estimators': [25, 50, 100, 500]}"
   ]
  },
  {
   "cell_type": "code",
   "execution_count": 28,
   "id": "e3d06d19-0913-44e5-8547-864e7c28cd19",
   "metadata": {},
   "outputs": [
    {
     "data": {
      "text/markdown": [
       "------------------------------------"
      ],
      "text/plain": [
       "<IPython.core.display.Markdown object>"
      ]
     },
     "metadata": {},
     "output_type": "display_data"
    },
    {
     "data": {
      "text/markdown": [
       "#### Modèle de regression : xgboost"
      ],
      "text/plain": [
       "<IPython.core.display.Markdown object>"
      ]
     },
     "metadata": {},
     "output_type": "display_data"
    },
    {
     "data": {
      "text/markdown": [
       "------------------------------------"
      ],
      "text/plain": [
       "<IPython.core.display.Markdown object>"
      ]
     },
     "metadata": {},
     "output_type": "display_data"
    },
    {
     "name": "stdout",
     "output_type": "stream",
     "text": [
      "Score  sur le train :  0.9991125024907163\n",
      "Score  sur le test :  0.7353152258086448\n"
     ]
    },
    {
     "data": {
      "text/markdown": [
       "------------------------------------"
      ],
      "text/plain": [
       "<IPython.core.display.Markdown object>"
      ]
     },
     "metadata": {},
     "output_type": "display_data"
    },
    {
     "name": "stdout",
     "output_type": "stream",
     "text": [
      "MAE   : 0.480\n",
      "MSE   : 0.436\n",
      "R2    : 0.735\n",
      "RMSE  : 0.660\n"
     ]
    },
    {
     "data": {
      "text/markdown": [
       "------------------------------------"
      ],
      "text/plain": [
       "<IPython.core.display.Markdown object>"
      ]
     },
     "metadata": {},
     "output_type": "display_data"
    },
    {
     "data": {
      "text/html": [
       "<div>\n",
       "<style scoped>\n",
       "    .dataframe tbody tr th:only-of-type {\n",
       "        vertical-align: middle;\n",
       "    }\n",
       "\n",
       "    .dataframe tbody tr th {\n",
       "        vertical-align: top;\n",
       "    }\n",
       "\n",
       "    .dataframe thead th {\n",
       "        text-align: right;\n",
       "    }\n",
       "</style>\n",
       "<table border=\"1\" class=\"dataframe\">\n",
       "  <thead>\n",
       "    <tr style=\"text-align: right;\">\n",
       "      <th></th>\n",
       "      <th>ind</th>\n",
       "      <th>Model</th>\n",
       "      <th>MAE</th>\n",
       "      <th>MSE</th>\n",
       "      <th>R2</th>\n",
       "      <th>RMSE</th>\n",
       "      <th>tempsExecution</th>\n",
       "    </tr>\n",
       "  </thead>\n",
       "  <tbody>\n",
       "    <tr>\n",
       "      <th>7</th>\n",
       "      <td>Conso Energy</td>\n",
       "      <td>xgboost</td>\n",
       "      <td>0.48002</td>\n",
       "      <td>0.435776</td>\n",
       "      <td>0.735315</td>\n",
       "      <td>0.660133</td>\n",
       "      <td>0.145931</td>\n",
       "    </tr>\n",
       "  </tbody>\n",
       "</table>\n",
       "</div>"
      ],
      "text/plain": [
       "            ind    Model      MAE       MSE        R2      RMSE  \\\n",
       "7  Conso Energy  xgboost  0.48002  0.435776  0.735315  0.660133   \n",
       "\n",
       "   tempsExecution  \n",
       "7        0.145931  "
      ]
     },
     "metadata": {},
     "output_type": "display_data"
    }
   ],
   "source": [
    "build_model('xgboost',model, X_train_Energy, y_train_Energy, X_test_Energy, y_test_Energy)"
   ]
  },
  {
   "cell_type": "markdown",
   "id": "e68f433b-6b4e-4342-a962-d2b04a82e2bc",
   "metadata": {},
   "source": [
    "#### <font color=\"#337da4\" id=\"3.3\">3.3. Support Vector Regression - SVR NON Linéaire polynomiale</font>\n"
   ]
  },
  {
   "cell_type": "code",
   "execution_count": 29,
   "id": "914e39c0-6c8c-4177-8e13-527ba75f230b",
   "metadata": {},
   "outputs": [],
   "source": [
    "from sklearn.svm import SVR\n",
    "model = SVR(kernel='poly')\n",
    "\n",
    "params = {'C': [1, 10, 50, 100], # Paramètre de régulation : pénalité pour les données mal classées. Si C est grand l'algorithme choisira un hyperplan à marge plus faible si cet hyperplan permet de mieux classer tous les points. \n",
    "                                                # Si C est petit, l'algorithme choisira un hyperplan à marge plus importante même si cet hyperplan classe plus mal les points\n",
    "              'epsilon' : [0.01, 0.1, 1], # erreur tolérée par l'algorithme\n",
    "              'gamma' : [1e-3, 1e-2, 1e-1],    # Kernel coefficient : influence d'une données d'entrainement. gamma faible = donnée a un grand rayons d'influence sur d'autre point pour former une classe. gamma élevé = rayon faible donc les points doivent être proches pour former une classe.\n",
    "              'degree' : [2,3]}   # degré polynomial"
   ]
  },
  {
   "cell_type": "code",
   "execution_count": 30,
   "id": "746742b5-26ab-4b29-a180-601ec8c13e59",
   "metadata": {},
   "outputs": [
    {
     "data": {
      "text/markdown": [
       "------------------------------------"
      ],
      "text/plain": [
       "<IPython.core.display.Markdown object>"
      ]
     },
     "metadata": {},
     "output_type": "display_data"
    },
    {
     "data": {
      "text/markdown": [
       "#### Modèle de regression : SVR Poly"
      ],
      "text/plain": [
       "<IPython.core.display.Markdown object>"
      ]
     },
     "metadata": {},
     "output_type": "display_data"
    },
    {
     "data": {
      "text/markdown": [
       "------------------------------------"
      ],
      "text/plain": [
       "<IPython.core.display.Markdown object>"
      ]
     },
     "metadata": {},
     "output_type": "display_data"
    },
    {
     "name": "stdout",
     "output_type": "stream",
     "text": [
      "Score  sur le train :  0.6802209485105498\n",
      "Score  sur le test :  0.10251322238054006\n"
     ]
    },
    {
     "data": {
      "text/markdown": [
       "------------------------------------"
      ],
      "text/plain": [
       "<IPython.core.display.Markdown object>"
      ]
     },
     "metadata": {},
     "output_type": "display_data"
    },
    {
     "name": "stdout",
     "output_type": "stream",
     "text": [
      "MAE   : 0.725\n",
      "MSE   : 1.478\n",
      "R2    : 0.103\n",
      "RMSE  : 1.216\n"
     ]
    },
    {
     "data": {
      "text/markdown": [
       "------------------------------------"
      ],
      "text/plain": [
       "<IPython.core.display.Markdown object>"
      ]
     },
     "metadata": {},
     "output_type": "display_data"
    },
    {
     "data": {
      "text/html": [
       "<div>\n",
       "<style scoped>\n",
       "    .dataframe tbody tr th:only-of-type {\n",
       "        vertical-align: middle;\n",
       "    }\n",
       "\n",
       "    .dataframe tbody tr th {\n",
       "        vertical-align: top;\n",
       "    }\n",
       "\n",
       "    .dataframe thead th {\n",
       "        text-align: right;\n",
       "    }\n",
       "</style>\n",
       "<table border=\"1\" class=\"dataframe\">\n",
       "  <thead>\n",
       "    <tr style=\"text-align: right;\">\n",
       "      <th></th>\n",
       "      <th>ind</th>\n",
       "      <th>Model</th>\n",
       "      <th>MAE</th>\n",
       "      <th>MSE</th>\n",
       "      <th>R2</th>\n",
       "      <th>RMSE</th>\n",
       "      <th>tempsExecution</th>\n",
       "    </tr>\n",
       "  </thead>\n",
       "  <tbody>\n",
       "    <tr>\n",
       "      <th>8</th>\n",
       "      <td>Conso Energy</td>\n",
       "      <td>SVR Poly</td>\n",
       "      <td>0.724993</td>\n",
       "      <td>1.477619</td>\n",
       "      <td>0.102513</td>\n",
       "      <td>1.215573</td>\n",
       "      <td>0.243167</td>\n",
       "    </tr>\n",
       "  </tbody>\n",
       "</table>\n",
       "</div>"
      ],
      "text/plain": [
       "            ind     Model       MAE       MSE        R2      RMSE  \\\n",
       "8  Conso Energy  SVR Poly  0.724993  1.477619  0.102513  1.215573   \n",
       "\n",
       "   tempsExecution  \n",
       "8        0.243167  "
      ]
     },
     "metadata": {},
     "output_type": "display_data"
    },
    {
     "data": {
      "text/plain": [
       "SVR(kernel='poly')"
      ]
     },
     "execution_count": 30,
     "metadata": {},
     "output_type": "execute_result"
    }
   ],
   "source": [
    "build_model('SVR Poly',model, X_train_Energy, y_train_Energy.values.ravel(), X_test_Energy, y_test_Energy.values.ravel())\n",
    "model"
   ]
  },
  {
   "attachments": {
    "7a08dfd3-8635-4b08-b068-961040355847.PNG": {
     "image/png": "[encoded data removed]"
    }
   },
   "cell_type": "markdown",
   "id": "54c53f66-882b-4c08-ae17-c89ca0a750d9",
   "metadata": {},
   "source": [
    "#### <font color=\"#337da4\" id=\"3.4\">3.4 K-NN regressor </font>\n",
    "\n",
    "<details>\n",
    "<summary><font color=\"purple\"><b>Explication du modèle </b></font></summary>\n",
    "\n",
    "<h4>Définition K-NN</h4> \n",
    "    \n",
    "Le **k-NN** est le diminutif de k Nearest Neighbors. C'est un algorithme qui peut servir autant pour la classification que pour la régression. Il est surnommé « nearest neighbors » (plus proches voisins, en français) car le principe de ce modèle consiste en effet à choisir les k données les plus proches du point étudié afin d'en prédire sa valeur. Le nombre k est un paramètre ajustable.\n",
    "\n",
    "La méthode KNN est souvent utilisée en apprentissage automatique pour la régression, la classification et la détection d'anomalies. Elle est simple à implémenter et peut être efficace pour les ensembles de données de petite à moyenne taille.\n",
    " \n",
    "    \n",
    "<h4>Prediction avec K-NN</h4>\n",
    "\n",
    "\n",
    "- Si K-NN est utilisé pour la régression, c'est la moyenne (ou la médiane) des variables y (y=output variable) des K plus proches observations qui servira pour la prédiction\n",
    "- Si K-NN est utilisé pour la classification, c'est le mode des variables y des K plus proches observations qui servira pour la prédiction\n",
    "\n",
    "<h4>Méthodes de calcul de la distance</h4>\n",
    "\n",
    "Pour le KNN de classification ainsi que de régression, ils ont un paramètre appelé metric qui désigne la méthode de calcul de la distance et qui prend par défaut la valeur ***minkowski***.\n",
    "    \n",
    "\n",
    "![KNN distance.PNG](attachment:7a08dfd3-8635-4b08-b068-961040355847.PNG)\n",
    "    \n",
    "KNN est un algorithme basé sur la distance, les méthodes les plus couramment utilisées étant :<br>\n",
    "    \n",
    "> Euclidean et Manhattan pour les données continues <br>\n",
    "> Distance de Hamming pour les données catégorielles<br>\n",
    " \n",
    "    \n",
    "La distance euclidienne est la distance mathématique entre deux points dans l'espace euclidien en utilisant la longueur d'une ligne entre les deux points. C'est la mesure de distance la plus connue et beaucoup de gens s'en souviendront de l'école du théorème de Pythagore. \n",
    "\n",
    "Manhattan Distance est la distance mathématique entre deux points, qui est la somme de la différence absolue de leurs coordonnées cartésiennes. En termes simples, le mouvement de direction entre la distance ne peut être que supérieur, inférieur et latéral.\n",
    "\n",
    "La distance de Hamming compare deux chaînes de données binaires, puis compare ces deux entrées de chaîne pour trouver le nombre de caractères différents dans chaque position de la chaîne.\n",
    "    \n",
    "<h4>Limitations de K-NN</h4>\n",
    "\n",
    "K-NN est un algorithme assez simple à appréhender. Principalement, grâce au fait qu'il n'a pas besoin de modèle pour pouvoir effectuer une prédiction. Le contre coût est qu'il doit garder en mémoire l'ensemble des observations pour pouvoir effectuer sa prédiction. Ainsi il faut faire attention à la taille du jeu d'entrainement. \n",
    "\n",
    "Egalement, le choix de la méthode de calcul de la distance ainsi que le nombre de voisins K peut ne pas être évident. Il faut essayer plusieurs combinaisons et faire du tuning de l'algorithme pour avoir un résultat satisfaisant.\n",
    "    \n",
    "</details>"
   ]
  },
  {
   "cell_type": "code",
   "execution_count": null,
   "id": "ede5b168-0c1c-4f9f-85f9-b278e75384d7",
   "metadata": {},
   "outputs": [],
   "source": [
    "from sklearn.neighbors import KNeighborsRegressor\n",
    "# Créer le modèle\n",
    "model = KNeighborsRegressor()\n",
    "\n",
    "# Créer un dictionnaire de paramètres à optimiser\n",
    "params = [{'n_neighbors': np.arange(1, 30, 2), #nombre de voisins\n",
    "              'weights': ['distance']}] # pondération des plus proches voisins qui auront une plus grande influence que les voisins les plus éloignés.\n"
   ]
  },
  {
   "cell_type": "code",
   "execution_count": null,
   "id": "42531d2a-2dc6-4ffa-a9df-94fa3272e317",
   "metadata": {},
   "outputs": [],
   "source": [
    "build_model('knn', model, X_train_Energy, y_train_Energy, X_test_Energy, y_test_Energy)"
   ]
  },
  {
   "cell_type": "markdown",
   "id": "eaa18773-e913-420d-aa24-861b1c5b12ab",
   "metadata": {},
   "source": [
    "### <font color=\"#337da4\" id=\"4\">4. Selection de modèle </font>  \n",
    "----------\n",
    "[Back to table of content](#-1) <br>"
   ]
  },
  {
   "cell_type": "markdown",
   "id": "3a4799b8-511d-41a5-b003-1382ebe4acba",
   "metadata": {},
   "source": [
    "#### <font color=\"#337da4\" id=\"4.1\">4.1. Meilleur modèle de prédiction de la consommation d'Energie </font>   "
   ]
  },
  {
   "cell_type": "code",
   "execution_count": 31,
   "id": "f56a56cc-e974-4442-a240-5c33acc3f583",
   "metadata": {},
   "outputs": [
    {
     "data": {
      "text/html": [
       "<div>\n",
       "<style scoped>\n",
       "    .dataframe tbody tr th:only-of-type {\n",
       "        vertical-align: middle;\n",
       "    }\n",
       "\n",
       "    .dataframe tbody tr th {\n",
       "        vertical-align: top;\n",
       "    }\n",
       "\n",
       "    .dataframe thead th {\n",
       "        text-align: right;\n",
       "    }\n",
       "</style>\n",
       "<table border=\"1\" class=\"dataframe\">\n",
       "  <thead>\n",
       "    <tr style=\"text-align: right;\">\n",
       "      <th></th>\n",
       "      <th>ind</th>\n",
       "      <th>Model</th>\n",
       "      <th>MAE</th>\n",
       "      <th>MSE</th>\n",
       "      <th>R2</th>\n",
       "      <th>RMSE</th>\n",
       "      <th>tempsExecution</th>\n",
       "    </tr>\n",
       "  </thead>\n",
       "  <tbody>\n",
       "    <tr>\n",
       "      <th>6</th>\n",
       "      <td>Conso Energy</td>\n",
       "      <td>randomforest</td>\n",
       "      <td>0.465511</td>\n",
       "      <td>0.395355</td>\n",
       "      <td>0.759866</td>\n",
       "      <td>0.628773</td>\n",
       "      <td>0.418966</td>\n",
       "    </tr>\n",
       "    <tr>\n",
       "      <th>7</th>\n",
       "      <td>Conso Energy</td>\n",
       "      <td>xgboost</td>\n",
       "      <td>0.480020</td>\n",
       "      <td>0.435776</td>\n",
       "      <td>0.735315</td>\n",
       "      <td>0.660133</td>\n",
       "      <td>0.145931</td>\n",
       "    </tr>\n",
       "    <tr>\n",
       "      <th>5</th>\n",
       "      <td>Conso Energy</td>\n",
       "      <td>knn</td>\n",
       "      <td>0.550043</td>\n",
       "      <td>0.616403</td>\n",
       "      <td>0.625604</td>\n",
       "      <td>0.785114</td>\n",
       "      <td>0.043892</td>\n",
       "    </tr>\n",
       "    <tr>\n",
       "      <th>2</th>\n",
       "      <td>Conso Energy</td>\n",
       "      <td>ridge</td>\n",
       "      <td>0.663717</td>\n",
       "      <td>0.772549</td>\n",
       "      <td>0.530764</td>\n",
       "      <td>0.878947</td>\n",
       "      <td>0.025141</td>\n",
       "    </tr>\n",
       "    <tr>\n",
       "      <th>0</th>\n",
       "      <td>Conso Energy</td>\n",
       "      <td>linearregression</td>\n",
       "      <td>0.664386</td>\n",
       "      <td>0.774791</td>\n",
       "      <td>0.529402</td>\n",
       "      <td>0.880222</td>\n",
       "      <td>0.052583</td>\n",
       "    </tr>\n",
       "    <tr>\n",
       "      <th>4</th>\n",
       "      <td>Conso Energy</td>\n",
       "      <td>linearsvr</td>\n",
       "      <td>0.659926</td>\n",
       "      <td>0.938625</td>\n",
       "      <td>0.429891</td>\n",
       "      <td>0.968827</td>\n",
       "      <td>0.029315</td>\n",
       "    </tr>\n",
       "    <tr>\n",
       "      <th>3</th>\n",
       "      <td>Conso Energy</td>\n",
       "      <td>elasticnet</td>\n",
       "      <td>0.805482</td>\n",
       "      <td>1.044239</td>\n",
       "      <td>0.365742</td>\n",
       "      <td>1.021880</td>\n",
       "      <td>0.017284</td>\n",
       "    </tr>\n",
       "    <tr>\n",
       "      <th>1</th>\n",
       "      <td>Conso Energy</td>\n",
       "      <td>lasso</td>\n",
       "      <td>0.850251</td>\n",
       "      <td>1.155981</td>\n",
       "      <td>0.297872</td>\n",
       "      <td>1.075166</td>\n",
       "      <td>0.021580</td>\n",
       "    </tr>\n",
       "    <tr>\n",
       "      <th>8</th>\n",
       "      <td>Conso Energy</td>\n",
       "      <td>SVR Poly</td>\n",
       "      <td>0.724993</td>\n",
       "      <td>1.477619</td>\n",
       "      <td>0.102513</td>\n",
       "      <td>1.215573</td>\n",
       "      <td>0.243167</td>\n",
       "    </tr>\n",
       "  </tbody>\n",
       "</table>\n",
       "</div>"
      ],
      "text/plain": [
       "            ind             Model       MAE       MSE        R2      RMSE  \\\n",
       "6  Conso Energy      randomforest  0.465511  0.395355  0.759866  0.628773   \n",
       "7  Conso Energy           xgboost  0.480020  0.435776  0.735315  0.660133   \n",
       "5  Conso Energy               knn  0.550043  0.616403  0.625604  0.785114   \n",
       "2  Conso Energy             ridge  0.663717  0.772549  0.530764  0.878947   \n",
       "0  Conso Energy  linearregression  0.664386  0.774791  0.529402  0.880222   \n",
       "4  Conso Energy         linearsvr  0.659926  0.938625  0.429891  0.968827   \n",
       "3  Conso Energy        elasticnet  0.805482  1.044239  0.365742  1.021880   \n",
       "1  Conso Energy             lasso  0.850251  1.155981  0.297872  1.075166   \n",
       "8  Conso Energy          SVR Poly  0.724993  1.477619  0.102513  1.215573   \n",
       "\n",
       "   tempsExecution  \n",
       "6        0.418966  \n",
       "7        0.145931  \n",
       "5        0.043892  \n",
       "2        0.025141  \n",
       "0        0.052583  \n",
       "4        0.029315  \n",
       "3        0.017284  \n",
       "1        0.021580  \n",
       "8        0.243167  "
      ]
     },
     "execution_count": 31,
     "metadata": {},
     "output_type": "execute_result"
    }
   ],
   "source": [
    "resultats=pd.concat(ListResults,axis=0)\n",
    "resultats.loc[resultats['ind'].str.contains('Energy',na=False,case=False),:].sort_values(by=['R2','RMSE'],ascending=[False,True])"
   ]
  },
  {
   "cell_type": "markdown",
   "id": "fe6ed6b8-c6c0-4be0-8eec-2431ef348b07",
   "metadata": {},
   "source": [
    "--------\n",
    "En regardant ces résultats, le modèle **SVR Poly** presente des performances largement en dessous des autres modèles de regression. \n",
    "Ce modèle sera éliminé.       \n",
    "Quant au modèle de regression **RandomForest** presente les meilleures métriques.     \n",
    "Ce modèle sera retenu comme **meilleur modèle**."
   ]
  },
  {
   "cell_type": "markdown",
   "id": "ae09b6ec-a848-44a6-a149-f962b349e008",
   "metadata": {},
   "source": [
    "#### <font color=\"#337da4\" id=\"4.2\">4.2. GridSearchCV sur le meilleur modèle </font>"
   ]
  },
  {
   "cell_type": "code",
   "execution_count": 32,
   "id": "823a0bd7-cbc7-4f84-be1e-8dbe9d98360d",
   "metadata": {},
   "outputs": [
    {
     "data": {
      "text/markdown": [
       "------------------------------------"
      ],
      "text/plain": [
       "<IPython.core.display.Markdown object>"
      ]
     },
     "metadata": {},
     "output_type": "display_data"
    },
    {
     "data": {
      "text/markdown": [
       "#### Modèle de regression : best model without ESS"
      ],
      "text/plain": [
       "<IPython.core.display.Markdown object>"
      ]
     },
     "metadata": {},
     "output_type": "display_data"
    },
    {
     "data": {
      "text/markdown": [
       "------------------------------------"
      ],
      "text/plain": [
       "<IPython.core.display.Markdown object>"
      ]
     },
     "metadata": {},
     "output_type": "display_data"
    },
    {
     "name": "stdout",
     "output_type": "stream",
     "text": [
      "Meilleurs paramètres :  {'max_depth': 10, 'max_features': 'auto', 'min_samples_leaf': 3, 'n_estimators': 200}\n",
      "Meilleur score test :  0.7648037379974828\n",
      "Score du modèle sur l'ensemble de test : 0.7644897149358882\n"
     ]
    },
    {
     "data": {
      "text/markdown": [
       "------------------------------------"
      ],
      "text/plain": [
       "<IPython.core.display.Markdown object>"
      ]
     },
     "metadata": {},
     "output_type": "display_data"
    },
    {
     "name": "stdout",
     "output_type": "stream",
     "text": [
      "MAE : 0.459\n",
      "MSE : 0.388\n",
      "R2 : 0.764\n",
      "RMSE : 0.623\n"
     ]
    },
    {
     "data": {
      "text/markdown": [
       "------------------------------------"
      ],
      "text/plain": [
       "<IPython.core.display.Markdown object>"
      ]
     },
     "metadata": {},
     "output_type": "display_data"
    },
    {
     "data": {
      "text/html": [
       "<div>\n",
       "<style scoped>\n",
       "    .dataframe tbody tr th:only-of-type {\n",
       "        vertical-align: middle;\n",
       "    }\n",
       "\n",
       "    .dataframe tbody tr th {\n",
       "        vertical-align: top;\n",
       "    }\n",
       "\n",
       "    .dataframe thead th {\n",
       "        text-align: right;\n",
       "    }\n",
       "</style>\n",
       "<table border=\"1\" class=\"dataframe\">\n",
       "  <thead>\n",
       "    <tr style=\"text-align: right;\">\n",
       "      <th></th>\n",
       "      <th>ind</th>\n",
       "      <th>Model</th>\n",
       "      <th>MAE</th>\n",
       "      <th>MSE</th>\n",
       "      <th>R2</th>\n",
       "      <th>RMSE</th>\n",
       "      <th>tempsExecution</th>\n",
       "    </tr>\n",
       "  </thead>\n",
       "  <tbody>\n",
       "    <tr>\n",
       "      <th>9</th>\n",
       "      <td>Conso Energy</td>\n",
       "      <td>best model without ESS</td>\n",
       "      <td>0.458921</td>\n",
       "      <td>0.387743</td>\n",
       "      <td>0.76449</td>\n",
       "      <td>0.62269</td>\n",
       "      <td>5.878887</td>\n",
       "    </tr>\n",
       "  </tbody>\n",
       "</table>\n",
       "</div>"
      ],
      "text/plain": [
       "            ind                   Model       MAE       MSE       R2     RMSE  \\\n",
       "9  Conso Energy  best model without ESS  0.458921  0.387743  0.76449  0.62269   \n",
       "\n",
       "   tempsExecution  \n",
       "9        5.878887  "
      ]
     },
     "metadata": {},
     "output_type": "display_data"
    },
    {
     "data": {
      "text/plain": [
       "{'max_depth': 10,\n",
       " 'max_features': 'auto',\n",
       " 'min_samples_leaf': 3,\n",
       " 'n_estimators': 200}"
      ]
     },
     "execution_count": 32,
     "metadata": {},
     "output_type": "execute_result"
    }
   ],
   "source": [
    "from sklearn.ensemble import RandomForestRegressor\n",
    "# Re estimation du modèle avec les meilleurs paramètres\n",
    "model = RandomForestRegressor()\n",
    "\n",
    "params = {\n",
    "    'n_estimators' : [10,50,100,200,300,500], # nombre d'arbres de décision\n",
    "    'max_depth': [1, 5,10,20,30,40,50], # nombre maximum de niveaux dans chaque arbre de décision ,\n",
    "    'min_samples_leaf' : [1,3,5,10,20,50], # nombre de feuilles minimales dans un noeud\n",
    "    'max_features': ['auto', 'sqrt', 'log2'] # nombre de features observées pour chaque arbre\n",
    "}\n",
    "\n",
    "best_model, best_params=build_model2('best model without ESS',model,params,  X_train_Energy, y_train_Energy.values.ravel(), \n",
    "             X_test_Energy, y_test_Energy.values.ravel(),ind='Conso Energy')\n",
    "best_model\n",
    "best_params"
   ]
  },
  {
   "cell_type": "markdown",
   "id": "df6914a7-f13d-4437-8838-dbaf9efc4561",
   "metadata": {},
   "source": [
    "#### <font color=\"#337da4\" id=\"4.3\">4.3. Features importance </font>"
   ]
  },
  {
   "cell_type": "markdown",
   "id": "a823a59b-12da-46f0-a915-b8aa167838ef",
   "metadata": {},
   "source": [
    "--------------------\n",
    "\n",
    "Le ***feature importance*** ou ***importance des variables*** est une mesure qui permet de quantifier l'importance relative des différentes variables d'entrée (features) dans un modèle de régression aléatoire (random forest). Cette mesure est utile pour comprendre l'impact de chaque variable sur les prédictions du modèle et pour sélectionner les variables les plus importantes.\n",
    "\n",
    "Le ***Random Forest*** est un algorithme de Machine Learning qui combine plusieurs arbres de décision pour améliorer la précision de la prédiction. L'importance des variables dans un modèle de ***Random Forest*** est calculée en se basant sur la réduction d'erreur moyenne (***Mean Decrease Impurity***) qui est attribuée à chaque variable lors de la construction de chaque arbre de décision."
   ]
  },
  {
   "cell_type": "code",
   "execution_count": 33,
   "id": "ed284610-89d0-44f5-8c6e-c9944b706deb",
   "metadata": {},
   "outputs": [
    {
     "data": {
      "image/png": "[encoded data removed]",
      "text/plain": [
       "<Figure size 640x480 with 1 Axes>"
      ]
     },
     "metadata": {},
     "output_type": "display_data"
    }
   ],
   "source": [
    "model = best_model # RandomForestRegressor(**best_params)\n",
    "model\n",
    "\n",
    "# Entraînement du modèle sur les données d'entraînement\n",
    "model.fit(X_train_Energy, y_train_Energy.values.ravel())\n",
    "\n",
    "# Affichage des importances des variables\n",
    "importances = model.feature_importances_\n",
    "std = np.std([tree.feature_importances_ for tree in model.estimators_], axis=0)\n",
    "indices = np.argsort(importances)[::-1]\n",
    "\n",
    "plt.figure()\n",
    "plt.title(\"Importance des variables\")\n",
    "plt.bar(range(X_train_Energy.shape[1]), importances[indices],  yerr=std[indices], align=\"center\") # color=\"r\",\n",
    "plt.xticks(range(X_train_Energy.shape[1]), X_train_Energy.columns[indices],rotation=90,size=10)\n",
    "plt.xlim([-1, X_train_Energy.shape[1]])\n",
    "plt.show()"
   ]
  },
  {
   "cell_type": "markdown",
   "id": "58512bd5-65b2-4187-95e9-b76b8ac4a1e6",
   "metadata": {},
   "source": [
    "-----------\n",
    "La variable la plus importante est la superficie totale de la proprieté. \n",
    "Elle est suivie de la la surface moyenne par Building.\n",
    "\n",
    "La variable binaire \"Utilisation de l'électricité\" est la moins importante. "
   ]
  },
  {
   "cell_type": "markdown",
   "id": "cef13b6b-20cd-4928-a043-2a345e8f6d1d",
   "metadata": {},
   "source": [
    "#### <font color=\"#337da4\" id=\"4.4\">4.4. Analyse des résidus </font>"
   ]
  },
  {
   "cell_type": "markdown",
   "id": "5b06c33a-a5de-4309-a61f-965968732d89",
   "metadata": {},
   "source": [
    "Les résidus ou  »erreurs observées» sont définis comme étant les différences entre les valeurs observées et les valeurs estimées par un modèle de régression, ils ont la particularité de représenter la partie non expliquée par l’équation de régression.\n",
    "\n",
    "On les note communément comme suit : $$ e_i =Y_i -\\hat{Y}_i $$\n",
    "\n",
    "L’analyse des résidus a pour objectif de tester la validité d’un modèle de régression. Elle permet de déceler les défaillances d’un modèle, c’est pourquoi il est nécessaire de l’effectuer avant toute analyse de régression.\n",
    "\n",
    "- Les résidus doivent être normalement distribués.\n",
    "- Les résidus doivent avoir une variance constante (homoscédasticité).\n",
    "- Les résidus ne doivent pas avoir de structure (autocorrélation)."
   ]
  },
  {
   "cell_type": "code",
   "execution_count": 34,
   "id": "824bbe53-ea8c-48b7-b097-7972b15c9ed0",
   "metadata": {},
   "outputs": [],
   "source": [
    "import statsmodels.api as sm\n",
    "# Faites des prédictions sur l'ensemble de test\n",
    "y_pred = model.predict(X_test_Energy)\n",
    "y_pred.shape\n",
    "y_test_Energy.values.ravel()\n",
    "\n",
    "# Obtenir les résidus du modèle\n",
    "residuals = y_test_Energy.values.ravel()- y_pred"
   ]
  },
  {
   "cell_type": "markdown",
   "id": "8fba84b9-68f3-429c-910a-166f51f2c3ab",
   "metadata": {},
   "source": [
    "----------------\n",
    "Les résidus standards doivent être répartis selon la loi normale. On peut vérifier cela \n",
    "1) par des graphiques (histogramme ou QQ-plot) ou \n",
    "2) par des tests statistiques (test Shapiro-Wilk ou test de Jarque-Berra)."
   ]
  },
  {
   "cell_type": "code",
   "execution_count": 35,
   "id": "7a7a3c2f-77ab-482e-ba7f-938fb4649b27",
   "metadata": {},
   "outputs": [
    {
     "name": "stderr",
     "output_type": "stream",
     "text": [
      "C:\\Users\\Fane0763\\Anaconda3\\lib\\site-packages\\statsmodels\\graphics\\gofplots.py:1045: UserWarning: color is redundantly defined by the 'color' keyword argument and the fmt string \"b\" (-> color=(0.0, 0.0, 1.0, 1)). The keyword argument will take precedence.\n",
      "  ax.plot(x, y, fmt, **plot_style)\n"
     ]
    },
    {
     "data": {
      "image/png": "[encoded data removed]",
      "text/plain": [
       "<Figure size 640x480 with 1 Axes>"
      ]
     },
     "metadata": {},
     "output_type": "display_data"
    },
    {
     "data": {
      "image/png": "[encoded data removed]",
      "text/plain": [
       "<Figure size 640x480 with 1 Axes>"
      ]
     },
     "metadata": {},
     "output_type": "display_data"
    }
   ],
   "source": [
    "# Vérifier la normalité des résidus avec un graphique Q-Q plot\n",
    "sm.qqplot(residuals, line='45', alpha=0.5, color='#4C72B0') # line='r',\n",
    "plt.show()\n",
    "\n",
    "plt.hist(residuals, bins=20, color='blue')\n",
    "plt.title('Histogramme des résidus')\n",
    "plt.xlabel('Résidus')\n",
    "plt.ylabel('Fréquence')\n",
    "plt.show()"
   ]
  },
  {
   "cell_type": "markdown",
   "id": "8a345496-6dac-45d8-bf6c-7041c76f4c3d",
   "metadata": {},
   "source": [
    "---------\n",
    "Le test de Shapiro (qui fonctionne pour les petits échantillons inférieurs à 50) permet de contrôler l'hypothèse nulle d'une répartition normale. \n",
    "Si p-value > 0.05 <-> Normalité."
   ]
  },
  {
   "cell_type": "code",
   "execution_count": 36,
   "id": "e0cad51b-aa2b-46d3-98f6-66b9b677fabc",
   "metadata": {},
   "outputs": [
    {
     "name": "stdout",
     "output_type": "stream",
     "text": [
      "0.0051778205670416355\n"
     ]
    }
   ],
   "source": [
    "from scipy.stats import shapiro\n",
    "x, pval = shapiro(residuals) ; print(pval)"
   ]
  },
  {
   "cell_type": "markdown",
   "id": "9cfc9a8f-634f-4417-a80d-2f6c2c817091",
   "metadata": {},
   "source": [
    "Pour les grands échantillons, on peut aussi faire de test de Jarque-Berra :"
   ]
  },
  {
   "cell_type": "code",
   "execution_count": 37,
   "id": "a92b8889-de78-48a1-a61b-0783cf8aa3ca",
   "metadata": {},
   "outputs": [
    {
     "name": "stdout",
     "output_type": "stream",
     "text": [
      "0.0012038352259364478\n"
     ]
    }
   ],
   "source": [
    "from scipy.stats import jarque_bera\n",
    "x, pval = jarque_bera(residuals) ; print(pval)"
   ]
  },
  {
   "cell_type": "markdown",
   "id": "58177303-a92d-46c8-ab37-4619a9f9c06b",
   "metadata": {},
   "source": [
    "##### Test de Breusch-Pagan\n",
    "---------------\n",
    "Cet test renvoie une p-value qui interroge la variance des résidus. Si la p-value est inférieure à 0,05, on doit rejeter la régression comme présentant de l'hétéroscédasticité."
   ]
  },
  {
   "cell_type": "code",
   "execution_count": 38,
   "id": "4cca5f0e-c353-48ab-b3cc-712418a7229a",
   "metadata": {},
   "outputs": [
    {
     "name": "stdout",
     "output_type": "stream",
     "text": [
      "Test de Breusch-Pagan :\n",
      "Statistique de test : 24.698917896427783\n",
      "P-valeur : 0.02527721460288956\n",
      "Valeurs des paramètres : (2.183459394228091, 0.01370329573452894)\n"
     ]
    }
   ],
   "source": [
    "from statsmodels.stats.api import  het_breuschpagan\n",
    "lagrande, pval, f, fpval = het_breuschpagan(residuals, X_test_Energy)\n",
    "\n",
    "# Effectuer le test de Breusch-Pagan sur les résidus du modèle de régression random forest\n",
    "import statsmodels.formula.api as smf\n",
    "from statsmodels.stats.diagnostic import het_breuschpagan\n",
    "bp_test = sm.stats.diagnostic.het_breuschpagan(residuals, X_test_Energy)\n",
    "\n",
    "# Afficher les résultats du test de Breusch-Pagan\n",
    "print('Test de Breusch-Pagan :')\n",
    "print('Statistique de test :', bp_test[0])\n",
    "print('P-valeur :', bp_test[1])\n",
    "print('Valeurs des paramètres :', bp_test[2:])"
   ]
  },
  {
   "cell_type": "code",
   "execution_count": 39,
   "id": "00f6ad56-2703-42b7-8e0b-e201aa19263b",
   "metadata": {},
   "outputs": [
    {
     "data": {
      "image/png": "[encoded data removed]",
      "text/plain": [
       "<Figure size 640x480 with 1 Axes>"
      ]
     },
     "metadata": {},
     "output_type": "display_data"
    }
   ],
   "source": [
    "# Vérifier l'homoscédasticité des résidus avec un graphique de dispersion\n",
    "\n",
    "plt.scatter(y_pred, residuals, color='blue')\n",
    "plt.axhline(y=0, color='red', linestyle='--')\n",
    "plt.xlabel('Valeurs prédites')\n",
    "plt.ylabel('Résidus')\n",
    "plt.show()"
   ]
  },
  {
   "cell_type": "markdown",
   "id": "13c80063-5ab4-4c6d-b987-a7ff2f1a0ef2",
   "metadata": {},
   "source": [
    "### Vérifier l'autocorrélation des résidus avec un graphique de corrélogramme\n",
    "-------------------\n",
    "Il faut ensuite contrôler l'indépendance des résidus. On peut le faire via :\n",
    "1) une représentation graphique ACP (auto-correlation function)\n",
    "2) le test statistique de Durbin-Watson.\n"
   ]
  },
  {
   "cell_type": "code",
   "execution_count": 40,
   "id": "ce2b7396-3bd8-4920-b9f6-40a227a4a986",
   "metadata": {},
   "outputs": [
    {
     "data": {
      "image/png": "[encoded data removed]",
      "text/plain": [
       "<Figure size 640x480 with 1 Axes>"
      ]
     },
     "metadata": {},
     "output_type": "display_data"
    }
   ],
   "source": [
    "# Vérifier l'autocorrélation des résidus avec un graphique de corrélogramme\n",
    "sm.graphics.tsa.plot_acf(residuals)\n",
    "plt.show()\n",
    "# from statsmodels.graphics.tsaplots import plot_acf\n",
    "# plot_acf(residuals)"
   ]
  },
  {
   "cell_type": "markdown",
   "id": "a15a30c9-6e2f-4823-b626-0a38a7cc7c5c",
   "metadata": {},
   "source": [
    "Le test de Durbin-Watson permet de détecter ces autocorrélations par un test objectif. \n",
    "La valeur renvoyée doit s'approcher de 2 (**1.6 et 2.4**). Plus elle s'en éloigne, plus on risque d'avoir des autocorrélations.\n"
   ]
  },
  {
   "cell_type": "code",
   "execution_count": 41,
   "id": "50d3de9f-716c-429d-8654-d826b9793e20",
   "metadata": {},
   "outputs": [
    {
     "name": "stdout",
     "output_type": "stream",
     "text": [
      "2.206279322963604\n"
     ]
    }
   ],
   "source": [
    "from statsmodels.stats.stattools import durbin_watson\n",
    "# Durbin-Watson test\n",
    "print(durbin_watson(residuals))"
   ]
  },
  {
   "cell_type": "markdown",
   "id": "4ffe18ef-1e93-406d-a717-f835849e0666",
   "metadata": {},
   "source": [
    "### <font color=\"#337da4\" id=\"5\">5. Influence du score ENERGY STAR</font>\n",
    "-----------------------\n",
    "[Back to table of content](#-1) <br>"
   ]
  },
  {
   "cell_type": "markdown",
   "id": "584f08cc-2521-4564-86b0-3d9ebd8d3e22",
   "metadata": {},
   "source": [
    "Le score **ENERGY STAR** fournit un aperçu complet de la performance énergétique d'un bâtiment, en tenant compte des actifs physiques, des opérations et du comportement des occupants du bâtiment. Il est exprimé sur une échelle de 1 à 100 facile à comprendre : **plus le score est élevé, meilleure est la performance énergétique du bâtiment**.\n",
    "\n",
    "Ce score permet de réaliser plusieurs actions :\n",
    "- Évaluer les données énergétiques réelles facturées,  \n",
    "- Normaliser pour l'activité commerciale *(heures, travailleurs, climat)*, \n",
    "- Comparer les bâtiments à la population nationale, \n",
    "- Indiquer le niveau de performance énergétique.\n",
    "\n",
    "Tout d'abord, interessons nous à la distribution de cette variable."
   ]
  },
  {
   "cell_type": "code",
   "execution_count": 42,
   "id": "760ec47f-8796-4d58-8f74-86d82ae7d6eb",
   "metadata": {},
   "outputs": [
    {
     "data": {
      "image/png": "[encoded data removed]",
      "text/plain": [
       "<Figure size 2000x800 with 2 Axes>"
      ]
     },
     "metadata": {},
     "output_type": "display_data"
    }
   ],
   "source": [
    "font_title3 = {'family': 'serif', 'color':  '#114b98','weight': 'bold', 'size': 20,}\n",
    "\n",
    "fig, axes = plt.subplots(nrows=1, ncols=2, sharex=False, sharey=False, figsize=(20,8))\n",
    "sns.histplot(data=X_CO2, x='ENERGYSTARScore', stat=\"density\", ax=axes[0])\n",
    "axes[0].set_title(\"Distribution \", color='#2cb7b0',size=20)\n",
    "sns.scatterplot(data=dfBuild, y='TotalGHGEmissions', x='ENERGYSTARScore', ax=axes[1])\n",
    "axes[1].set_title(\"ENERGY STAR score en fonction de TotalGHGEmissions \", color='#2cb7b0',size=20)\n",
    "plt.suptitle(\"Analyse de la variable ENERGY STAR Score \\n \\n\", color='#114b98',size=20)\n",
    "plt.show()"
   ]
  },
  {
   "cell_type": "markdown",
   "id": "a756b790-655d-4996-8b49-b4229ecfe0dc",
   "metadata": {},
   "source": [
    "Nous allons donc évaluer si ce score à un impact significatif sur les performances de notre modélisation.\n",
    "\n",
    "**Pour ce faire, nous allons utiliser cette variable comme explicative dans notre meilleur modèle.** "
   ]
  },
  {
   "cell_type": "code",
   "execution_count": 44,
   "id": "36793c8b-316d-4992-9253-dbb0aa08f3a0",
   "metadata": {},
   "outputs": [
    {
     "data": {
      "text/markdown": [
       "------------------------------------"
      ],
      "text/plain": [
       "<IPython.core.display.Markdown object>"
      ]
     },
     "metadata": {},
     "output_type": "display_data"
    },
    {
     "data": {
      "text/markdown": [
       "#### Modèle de regression : best model with ESS"
      ],
      "text/plain": [
       "<IPython.core.display.Markdown object>"
      ]
     },
     "metadata": {},
     "output_type": "display_data"
    },
    {
     "data": {
      "text/markdown": [
       "------------------------------------"
      ],
      "text/plain": [
       "<IPython.core.display.Markdown object>"
      ]
     },
     "metadata": {},
     "output_type": "display_data"
    },
    {
     "name": "stdout",
     "output_type": "stream",
     "text": [
      "Meilleurs paramètres :  {'max_depth': 50, 'max_features': 'auto', 'min_samples_leaf': 3, 'n_estimators': 200}\n",
      "Meilleur score test :  0.7667322000830574\n",
      "Score du modèle sur l'ensemble de test : 0.7685345576711253\n"
     ]
    },
    {
     "data": {
      "text/markdown": [
       "------------------------------------"
      ],
      "text/plain": [
       "<IPython.core.display.Markdown object>"
      ]
     },
     "metadata": {},
     "output_type": "display_data"
    },
    {
     "name": "stdout",
     "output_type": "stream",
     "text": [
      "MAE : 0.454\n",
      "MSE : 0.381\n",
      "R2 : 0.769\n",
      "RMSE : 0.617\n"
     ]
    },
    {
     "data": {
      "text/markdown": [
       "------------------------------------"
      ],
      "text/plain": [
       "<IPython.core.display.Markdown object>"
      ]
     },
     "metadata": {},
     "output_type": "display_data"
    },
    {
     "data": {
      "text/html": [
       "<div>\n",
       "<style scoped>\n",
       "    .dataframe tbody tr th:only-of-type {\n",
       "        vertical-align: middle;\n",
       "    }\n",
       "\n",
       "    .dataframe tbody tr th {\n",
       "        vertical-align: top;\n",
       "    }\n",
       "\n",
       "    .dataframe thead th {\n",
       "        text-align: right;\n",
       "    }\n",
       "</style>\n",
       "<table border=\"1\" class=\"dataframe\">\n",
       "  <thead>\n",
       "    <tr style=\"text-align: right;\">\n",
       "      <th></th>\n",
       "      <th>ind</th>\n",
       "      <th>Model</th>\n",
       "      <th>MAE</th>\n",
       "      <th>MSE</th>\n",
       "      <th>R2</th>\n",
       "      <th>RMSE</th>\n",
       "      <th>tempsExecution</th>\n",
       "    </tr>\n",
       "  </thead>\n",
       "  <tbody>\n",
       "    <tr>\n",
       "      <th>10</th>\n",
       "      <td>Conso Energy</td>\n",
       "      <td>best model with ESS</td>\n",
       "      <td>0.454144</td>\n",
       "      <td>0.381084</td>\n",
       "      <td>0.768535</td>\n",
       "      <td>0.61732</td>\n",
       "      <td>5.994788</td>\n",
       "    </tr>\n",
       "  </tbody>\n",
       "</table>\n",
       "</div>"
      ],
      "text/plain": [
       "             ind                Model       MAE       MSE        R2     RMSE  \\\n",
       "10  Conso Energy  best model with ESS  0.454144  0.381084  0.768535  0.61732   \n",
       "\n",
       "    tempsExecution  \n",
       "10        5.994788  "
      ]
     },
     "metadata": {},
     "output_type": "display_data"
    },
    {
     "data": {
      "text/plain": [
       "(RandomForestRegressor(max_depth=50, min_samples_leaf=3, n_estimators=200),\n",
       " {'max_depth': 50,\n",
       "  'max_features': 'auto',\n",
       "  'min_samples_leaf': 3,\n",
       "  'n_estimators': 200})"
      ]
     },
     "execution_count": 44,
     "metadata": {},
     "output_type": "execute_result"
    }
   ],
   "source": [
    "build_model2('best model with ESS',model,params,  X_train_Energy_ESS, y_train_Energy.values.ravel(), \n",
    "             X_test_Energy_ESS, y_test_Energy.values.ravel(),ind='Conso Energy')"
   ]
  },
  {
   "cell_type": "markdown",
   "id": "fce314a9-85fa-49fd-9b3d-fc43b9a9389b",
   "metadata": {},
   "source": [
    "### <font color=\"#337da4\" id=\"6\">6. Conclusion </font>\n",
    "------------------------\n",
    "[Back to table of content](#-1) <br>"
   ]
  },
  {
   "cell_type": "code",
   "execution_count": 45,
   "id": "2423866d-ce66-4ee0-8748-71631301553c",
   "metadata": {},
   "outputs": [
    {
     "data": {
      "text/html": [
       "<div>\n",
       "<style scoped>\n",
       "    .dataframe tbody tr th:only-of-type {\n",
       "        vertical-align: middle;\n",
       "    }\n",
       "\n",
       "    .dataframe tbody tr th {\n",
       "        vertical-align: top;\n",
       "    }\n",
       "\n",
       "    .dataframe thead th {\n",
       "        text-align: right;\n",
       "    }\n",
       "</style>\n",
       "<table border=\"1\" class=\"dataframe\">\n",
       "  <thead>\n",
       "    <tr style=\"text-align: right;\">\n",
       "      <th></th>\n",
       "      <th>ind</th>\n",
       "      <th>Model</th>\n",
       "      <th>MAE</th>\n",
       "      <th>MSE</th>\n",
       "      <th>R2</th>\n",
       "      <th>RMSE</th>\n",
       "      <th>tempsExecution</th>\n",
       "    </tr>\n",
       "  </thead>\n",
       "  <tbody>\n",
       "    <tr>\n",
       "      <th>10</th>\n",
       "      <td>Conso Energy</td>\n",
       "      <td>best model with ESS</td>\n",
       "      <td>0.454144</td>\n",
       "      <td>0.381084</td>\n",
       "      <td>0.768535</td>\n",
       "      <td>0.61732</td>\n",
       "      <td>5.994788</td>\n",
       "    </tr>\n",
       "    <tr>\n",
       "      <th>9</th>\n",
       "      <td>Conso Energy</td>\n",
       "      <td>best model without ESS</td>\n",
       "      <td>0.458921</td>\n",
       "      <td>0.387743</td>\n",
       "      <td>0.764490</td>\n",
       "      <td>0.62269</td>\n",
       "      <td>5.878887</td>\n",
       "    </tr>\n",
       "  </tbody>\n",
       "</table>\n",
       "</div>"
      ],
      "text/plain": [
       "             ind                   Model       MAE       MSE        R2  \\\n",
       "10  Conso Energy     best model with ESS  0.454144  0.381084  0.768535   \n",
       "9   Conso Energy  best model without ESS  0.458921  0.387743  0.764490   \n",
       "\n",
       "       RMSE  tempsExecution  \n",
       "10  0.61732        5.994788  \n",
       "9   0.62269        5.878887  "
      ]
     },
     "execution_count": 45,
     "metadata": {},
     "output_type": "execute_result"
    }
   ],
   "source": [
    "resultats=pd.concat(ListResults,axis=0)\n",
    "resultats.loc[resultats['Model'].str.contains('best',na=False,case=False),:].sort_values(by=['R2','RMSE'],ascending=[False,True])"
   ]
  },
  {
   "cell_type": "markdown",
   "id": "59093bcd-1919-44b8-b285-7b412575a51d",
   "metadata": {},
   "source": [
    "<div class=\"warning\" style=\"color:#4F6272;font-size:100%;text-align:left;  padding-top: 5px;  padding-left: 5px;  padding-right: 5px; padding-bottom: 10px; margin-bottom: 5px; border-top: solid gray 5px; border-bottom: solid gray 2px;border-radius: 30px 30px;padding-right: 10px;\">\n",
    "<span> \n",
    "<p style='margin-left:0.9em;'>\n",
    "L'apport de la variable  <b><i> ENERGY STAR Score </i></b>   reste négligeable surl'amélioration de la précision du modèle; Donc, elle n'est pas utile dans le calcul de la consommation d'Energie des batiments </p>\n",
    "</span>\n",
    "</div>"
   ]
  }
 ],
 "metadata": {
  "kernelspec": {
   "display_name": "Python 3 (ipykernel)",
   "language": "python",
   "name": "python3"
  },
  "language_info": {
   "codemirror_mode": {
    "name": "ipython",
    "version": 3
   },
   "file_extension": ".py",
   "mimetype": "text/x-python",
   "name": "python",
   "nbconvert_exporter": "python",
   "pygments_lexer": "ipython3",
   "version": "3.9.16"
  }
 },
 "nbformat": 4,
 "nbformat_minor": 5
}
